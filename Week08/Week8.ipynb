{
 "cells": [
  {
   "cell_type": "markdown",
   "metadata": {},
   "source": [
    "# Intro\n",
    "\n",
    "It's the last time we meet in class for exercises! And to celebrate this mile-stone, we've put together an amazing set of exercises. And if you're behind, don't worry. The workload is low!\n",
    "\n",
    "  - Part A: First, we play around with sentiment analysis\n",
    "  - Part B **(optional)**: We study paths in networks using a fun new dataset. (If only doing part A feels too easy for you, I've added a really fun exercise that should be fun and challenging.)\n",
    "\n",
    "But first, watch this video that touches upon your final project and Assignment 2 (which will be released later Wednesday),\n",
    "\n",
    "> [**Video**](https://www.dropbox.com/scl/fi/jh3490oqnqh4yl629ik09/ProjectAndAssigment.mp4?rlkey=2uyl7tq0xgzydl5u8pqzncf92&dl=0) about the Independent Project and Assignment 2"
   ]
  },
  {
   "cell_type": "markdown",
   "metadata": {},
   "source": [
    "# Part A: Sentiment analysis"
   ]
  },
  {
   "cell_type": "markdown",
   "metadata": {},
   "source": [
    "Sentiment analysis is another highly useful technique which we'll use to make sense of the Wiki\n",
    "data. Further, experience shows that it might well be very useful when you get to the project stage of the class."
   ]
  },
  {
   "cell_type": "markdown",
   "metadata": {},
   "source": [
    "\n",
    "> [**Video Lecture**](https://www.dropbox.com/scl/fi/u0rn767hg7e6ue4ryx41a/Sentiment.mp4?rlkey=4kwfqv6pkw1aijshm5zqe8ehh&dl=0): Sentiment and dictionary-based methods.\n",
    "\n"
   ]
  },
  {
   "cell_type": "code",
   "execution_count": 2,
   "metadata": {},
   "outputs": [
    {
     "data": {
      "image/jpeg": "[encoded data removed]",
      "text/html": [
       "\n",
       "        <iframe\n",
       "            width=\"800\"\n",
       "            height=\"450\"\n",
       "            src=\"https://www.youtube.com/embed/hY0UCD5UiiY\"\n",
       "            frameborder=\"0\"\n",
       "            allowfullscreen\n",
       "            \n",
       "        ></iframe>\n",
       "        "
      ],
      "text/plain": [
       "<IPython.lib.display.YouTubeVideo at 0x2dbd766dea0>"
      ]
     },
     "execution_count": 2,
     "metadata": {},
     "output_type": "execute_result"
    }
   ],
   "source": [
    "# There's also this one from 2010 showing Sune Lehmann on national television\n",
    "from IPython.display import YouTubeVideo, HTML, display\n",
    "YouTubeVideo(\"hY0UCD5UiiY\",width=800, height=450)"
   ]
  },
  {
   "cell_type": "markdown",
   "metadata": {},
   "source": [
    "> Reading: [Temporal Patterns of Happiness and Information in a Global Social Network: Hedonometrics and Twitter](http://journals.plos.org/plosone/article?id=10.1371/journal.pone.0026752) \n"
   ]
  },
  {
   "cell_type": "markdown",
   "metadata": {},
   "source": [
    "_Exercise 1_: Sentiment distribution. \n",
    "> \n",
    "> * Download the LabMT wordlist. It's available as supplementary material from [Temporal Patterns of Happiness and Information in a Global Social Network: Hedonometrics and Twitter](http://journals.plos.org/plosone/article?id=10.1371/journal.pone.0026752) (Data Set S1). Describe briefly how the list was generated.\n",
    "> * Based on the LabMT word list, write a function that calculates sentiment given a list of tokens (the tokens should be lower case, etc).\n",
    "> * Iterate over the nodes in your network, tokenize each page, and calculate sentiment every single page. Now you have sentiment as a new nodal property. \n",
    "> * Remember histograms? Create a histogram of all character's associated page-sentiments. (And make it a nice histogram - use your histogram making skills from Week 2).\n",
    "> * Who are the 10 rappers with happiest and saddest pages?\n",
    "\n",
    "<!---\n",
    "> * Now we average the average sentiment of the nodes in each community to find a *community level sentiment*. \n",
    ">   - Name each community by its three most connected characters. \n",
    ">   - What are the three happiest communities? \n",
    ">   - what are the three saddest communities?\n",
    ">   - Do these results confirm what you can learn about each community by skimming the wikipedia pages?\n",
    "--->\n",
    "\n",
    "**Note**: Calculating sentiment takes a long time, so arm yourself with patience as your code runs (remember to check that it runs correctly, before waiting patiently). Further, these tips may speed things up. And save somewhere, so you don't have to start over.\n",
    "\n",
    "**Tips for speed**\n",
    "* If you use `freqDist` prior to finding the sentiment, you only have to find it for every unique word and hereafter you can do a weighted mean.\n",
    "* More tips for speeding up loops https://wiki.python.org/moin/PythonSpeed/PerformanceTips#Loops"
   ]
  },
  {
   "cell_type": "code",
   "execution_count": 3,
   "metadata": {},
   "outputs": [],
   "source": [
    "import pandas as pd\n",
    "import networkx as nx\n",
    "import os\n",
    "import requests\n",
    "import re\n",
    "import numpy as np\n",
    "import matplotlib.pyplot as plt\n",
    "import nltk\n",
    "import requests\n",
    "import community\n",
    "\n",
    "from nltk.corpus import PlaintextCorpusReader\n",
    "from nltk import word_tokenize\n",
    "from nltk import FreqDist\n",
    "from wordcloud import WordCloud, STOPWORDS"
   ]
  },
  {
   "cell_type": "code",
   "execution_count": 4,
   "metadata": {},
   "outputs": [],
   "source": [
    "corpus_root = '../files/rapper_texts'\n",
    "all_corpus = PlaintextCorpusReader(corpus_root, '.*')"
   ]
  },
  {
   "cell_type": "code",
   "execution_count": 5,
   "metadata": {},
   "outputs": [
    {
     "name": "stdout",
     "output_type": "stream",
     "text": [
      "Index(['word', 'happiness_rank', 'happiness_average',\n",
      "       'happiness_standard_deviation', 'twitter_rank', 'google_rank',\n",
      "       'nyt_rank', 'lyrics_rank'],\n",
      "      dtype='object')\n",
      "        word  happiness_rank  happiness_average  happiness_standard_deviation  \\\n",
      "0   laughter               1               8.50                        0.9313   \n",
      "1  happiness               2               8.44                        0.9723   \n",
      "2       love               3               8.42                        1.1082   \n",
      "3      happy               4               8.30                        0.9949   \n",
      "4    laughed               5               8.26                        1.1572   \n",
      "\n",
      "  twitter_rank google_rank nyt_rank lyrics_rank  \n",
      "0         3600          --       --        1728  \n",
      "1         1853        2458       --        1230  \n",
      "2           25         317      328          23  \n",
      "3           65        1372     1313         375  \n",
      "4         3334        3542       --        2332  \n"
     ]
    }
   ],
   "source": [
    "# read data_set_S1.txt into df\n",
    "df = pd.read_csv('data_set_S1.txt', sep='\\t')\n",
    "print(df.columns)\n",
    "print(df.head())"
   ]
  },
  {
   "cell_type": "code",
   "execution_count": 6,
   "metadata": {},
   "outputs": [],
   "source": [
    "dict_avg_happiness = {}\n",
    "for i in range(len(df)):\n",
    "    dict_avg_happiness[df['word'][i]] = df['happiness_average'][i]"
   ]
  },
  {
   "cell_type": "code",
   "execution_count": 64,
   "metadata": {},
   "outputs": [],
   "source": [
    "def get_happiness_score(text_raw, dict_avg_happiness):\n",
    "    text_tokens = word_tokenize(text_raw)\n",
    "    text_words = [w.lower() for w in text_tokens if w.isalpha()]\n",
    "    fdist = FreqDist(text_words)\n",
    "    total_count = 0\n",
    "    happiness_score = 0\n",
    "    for w in fdist:\n",
    "        if w in dict_avg_happiness:\n",
    "            happiness_score += dict_avg_happiness[w]*fdist[w]\n",
    "            total_count += fdist[w]\n",
    "    if total_count == 0:\n",
    "        return 0\n",
    "    happiness_score /= total_count\n",
    "    return happiness_score"
   ]
  },
  {
   "cell_type": "code",
   "execution_count": 65,
   "metadata": {},
   "outputs": [
    {
     "data": {
      "text/plain": [
       "6.65"
      ]
     },
     "execution_count": 65,
     "metadata": {},
     "output_type": "execute_result"
    }
   ],
   "source": [
    "text_raw = 'Hello I am happy'\n",
    "get_happiness_score(text_raw, dict_avg_happiness)"
   ]
  },
  {
   "cell_type": "code",
   "execution_count": 66,
   "metadata": {},
   "outputs": [
    {
     "name": "stdout",
     "output_type": "stream",
     "text": [
      "{'DJ_Webstar.txt': 5.918356164383562, 'Like_(record_producer).txt': 5.808294930875573, 'Mark_Batson.txt': 5.803961538461526, 'KC_Montero.txt': 5.8011445783132505, 'Young_Music_DYMG.txt': 5.786207951070336, 'Foreknown_(rapper).txt': 5.777884615384617, 'Theo_Martins.txt': 5.776470588235295, 'Emcee_N.I.C.E..txt': 5.764515050167221, 'Sky_Blu_(rapper).txt': 5.761993299832495, 'D_Smoke.txt': 5.758519855595667, 'MC_Yogi.txt': 5.755021459227471, 'M._K._Asante.txt': 5.75036599763872, 'Speak!.txt': 5.74021052631579, 'Dave_Free.txt': 5.738759689922478, 'Justina_Valentine.txt': 5.7383725910064305, 'Sabor_Latino.txt': 5.737642276422769, 'Mann_(rapper).txt': 5.734968152866242, 'Skizzy_Mars.txt': 5.734489795918367, 'Roshon_Fegan.txt': 5.718282828282826, 'Bkorn.txt': 5.714233333333335, 'V._Rose.txt': 5.713405275779377, \"Lil'_Fizz.txt\": 5.713081967213116, 'Na_Kel_Smith.txt': 5.712805755395684, 'Cymphonique_Miller.txt': 5.711958041958048, 'DJ_A_Tron.txt': 5.704763513513512, 'Saint_Dog.txt': 5.70279187817259, 'Lamiere.txt': 5.702651162790701, 'Young_Chozen.txt': 5.701442307692307, 'Amber_Liu_(singer).txt': 5.700859728506785, 'Clams_Casino_(musician).txt': 5.69938388625592, 'Bahamadia.txt': 5.698897637795277, 'Antoinette_(rapper).txt': 5.697954545454544, 'Cool_Nutz.txt': 5.696194029850744, 'Awkwafina.txt': 5.691548575602631, 'Jay_Critch.txt': 5.691428571428571, 'Suga_Free.txt': 5.688298555377204, 'Channel_Tres.txt': 5.688057142857144, 'Ms._Jade.txt': 5.686947368421054, 'Terrace_Martin.txt': 5.686438172043011, 'Tanna_Leone.txt': 5.685180000000001, 'Conceit_(rapper).txt': 5.681666666666668, 'Derrick_Milano.txt': 5.68065445026178, 'Al_Sherrod_Lambert.txt': 5.679903264812573, 'Nichkhun.txt': 5.67953716690042, 'Johan_Lenox.txt': 5.679213483146067, 'Princess_Superstar.txt': 5.67520934761441, 'Junglepussy.txt': 5.674780487804881, 'Dub_L.txt': 5.6729802955665, 'Trip_Lee.txt': 5.672887236679055, 'Chanel_West_Coast.txt': 5.67211229946524, 'Syd_(singer).txt': 5.671332116788319, 'Only_Won.txt': 5.670104986876643, 'Capella_Grey.txt': 5.670041407867496, 'Arif_Zahir.txt': 5.669829545454545, 'HeeSun_Lee.txt': 5.669612903225808, 'Call_Me_Ace.txt': 5.669303482587066, 'Wordsworth_(rapper).txt': 5.668450184501846, 'Jan_Lucanus.txt': 5.666810810810799, 'Busy_Bee_Starski.txt': 5.664343065693433, 'Psychosiz.txt': 5.6635593220339, 'Nosson_Zand.txt': 5.662409381663108, 'DJ_King_Assassin.txt': 5.661500000000001, 'Jay_Park.txt': 5.660205164485316, 'SwinDoe.txt': 5.659622641509433, 'Tommy_Brown_(record_producer).txt': 5.658604651162786, 'Billy_Drease_Williams.txt': 5.657919293820927, 'Becky_G.txt': 5.657434609750992, 'Passion_(rapper).txt': 5.65719512195122, 'Daddy_X.txt': 5.654845360824743, 'Cousin_Stizz.txt': 5.654006309148263, 'Asheru.txt': 5.653598014888329, 'Shawn_Chrystopher.txt': 5.653277909738719, 'Elle_Royal.txt': 5.651769383697806, 'Dot_da_Genius.txt': 5.651697860962568, 'Princess_Nokia.txt': 5.651453333333336, 'Omega_Crosby.txt': 5.650850000000002, 'DJ_Stretch_Armstrong.txt': 5.649865319865321, 'Dai_Burger.txt': 5.648346253229971, 'Reks.txt': 5.648067484662577, 'DJ_Skee.txt': 5.646237006237005, 'Coi_Leray.txt': 5.645228031145722, 'Baby_Keem.txt': 5.6448014440433205, 'Salaam_Remi.txt': 5.644792176039125, 'Teddy_Park.txt': 5.644412470023986, 'Spose.txt': 5.643285024154585, 'Flipp_Dinero.txt': 5.642919254658388, 'Lady_B.txt': 5.640849858356943, 'CL_Smooth.txt': 5.638953068592053, 'Kam_(rapper).txt': 5.6384406779661, 'Timothy_DeLaGhetto.txt': 5.638029978586726, 'Queen_Latifah.txt': 5.637021604938281, 'Ya_Boy.txt': 5.6366666666666685, '24kGoldn.txt': 5.636160877513709, 'Mims_(rapper).txt': 5.635650349650355, 'Jill_Scott_(singer).txt': 5.634638675817517, 'King_Lil_G.txt': 5.632543859649123, 'Jeff_Jericho.txt': 5.631967592592591, 'Playalitical.txt': 5.631254019292605, 'Sounwave.txt': 5.630923276983093, 'Alrad_Lewis.txt': 5.630874524714829, 'Kid_Capri.txt': 5.630243902439028, 'Buddy_(rapper).txt': 5.630134228187923, 'Prince_Whipper_Whip.txt': 5.629026548672568, 'Felly.txt': 5.628742138364777, 'DJ_Chuck_Chillout.txt': 5.6287387387387415, 'Sleep_Dank.txt': 5.628135593220339, 'Tyler_James_Williams.txt': 5.62728782287823, 'Ice_Spice.txt': 5.626325536062376, 'Rashad_Smith_(producer).txt': 5.626012578616355, 'Futuristic_(rapper).txt': 5.625351288056202, 'Ali_Vegas.txt': 5.625188405797101, 'Vinylz.txt': 5.6246788990825705, 'Big_Dave_(rapper).txt': 5.624130879345601, 'Lil_Tecca.txt': 5.623511450381675, 'Emile_Haynie.txt': 5.622650176678451, 'Snow_Tha_Product.txt': 5.622625189681335, 'Aminé_(rapper).txt': 5.6220959595959625, 'Quazedelic.txt': 5.6216607354685655, 'Teyana_Taylor.txt': 5.620056689342395, 'Casey_Veggies.txt': 5.619800000000001, 'Ron_Browz.txt': 5.618815426997248, 'Redfoo.txt': 5.618793922127261, 'Aloe_Blacc.txt': 5.618684807256238, 'Mike_D.txt': 5.6184302325581355, 'Souleye_(hip_hop_artist).txt': 5.6183096926713905, 'Sway_Calloway.txt': 5.617467948717948, 'Suga_T.txt': 5.616907630522091, 'Saweetie.txt': 5.616851691240242, 'Cazwell.txt': 5.616616766467072, 'DJ_Dahi.txt': 5.615808785529717, 'Flying_Lotus.txt': 5.615651006711409, 'Shorty_Mack.txt': 5.615564516129034, 'Aone_Beats.txt': 5.615212038303697, 'Jonathan_Shecter.txt': 5.615119363395224, 'Kirk_Knight.txt': 5.615112359550563, 'Red_Cloud_(rapper).txt': 5.61504283965728, 'Action_Bronson.txt': 5.614655300222385, 'Jake_One.txt': 5.614308943089433, 'Kellee_Maize.txt': 5.613379120879121, 'Reason_(American_rapper).txt': 5.613166666666666, 'Njena_Reddd_Foxxx.txt': 5.612807017543861, 'DJ_Fresh_(American_DJ).txt': 5.611269230769232, 'Krondon.txt': 5.611185567010308, 'Jay_Rock.txt': 5.611137724550896, 'Megahertz_(record_producer).txt': 5.610400457665904, 'Daddy_O_(rapper).txt': 5.610203442879502, 'Yhaunai_Takiyal.txt': 5.60973384030418, 'The_Real_Richie_Rich.txt': 5.608850574712646, 'Focus....txt': 5.608052631578944, 'Slimkid3.txt': 5.60620481927711, 'JHawk.txt': 5.605986328124997, 'Lil_Dicky.txt': 5.605842696629214, 'Saga_(rapper).txt': 5.605615141955839, 'Exile_(producer).txt': 5.604303030303029, 'MC_Paul_Barman.txt': 5.604129353233831, 'AMG_(rapper).txt': 5.602938144329897, 'Ka$hdami.txt': 5.602896341463413, 'Lil_Mama.txt': 5.602600912600906, 'Parlay_Starr.txt': 5.60132716049383, 'Sir_Mix_a_Lot.txt': 5.600929460580909, 'Hoodie_Allen.txt': 5.600894808743168, 'Pepa_(rapper).txt': 5.6008219178082195, 'Big_Body_Bes.txt': 5.6004854368932016, 'Evidence_(musician).txt': 5.600278145695363, 'Dom_Kennedy.txt': 5.599637096774196, 'Big_Fase_100.txt': 5.599206349206348, 'Doug_E._Fresh.txt': 5.59900800985829, 'Shwayze.txt': 5.5984999999999925, 'Akir.txt': 5.598239608801959, 'Salt_(rapper).txt': 5.598218527315911, 'Just_Blaze.txt': 5.598114285714286, 'B.G._Knocc_Out.txt': 5.59778894472362, 'Mike_Stud.txt': 5.5971924290220825, 'Ivan_Matias.txt': 5.596637168141599, 'Ex_plicit_linez.txt': 5.596375711574957, 'Skee_Lo.txt': 5.596289978678034, 'J.I_the_Prince_of_N.Y.txt': 5.595886075949372, 'Radamiz.txt': 5.595876777251186, 'Alex_Skolnick.txt': 5.59509105960265, 'Special_K_(rapper).txt': 5.594318840579711, 'Jipsta.txt': 5.593922734026738, 'Glasses_Malone.txt': 5.5928016359918225, 'MC_Jin.txt': 5.591725917431186, 'Fashawn.txt': 5.5915021834061145, 'Kyle_Rapps.txt': 5.591462962962963, 'Chubb_Rock.txt': 5.590600775193798, 'Dudley_Perkins_(rapper).txt': 5.590320855614971, 'Sage_the_Gemini.txt': 5.589637883008359, 'Lady_Crush.txt': 5.589151785714284, 'Celestaphone.txt': 5.5891275167785235, 'Cardi_B.txt': 5.589013202667762, 'Tate_Kobang.txt': 5.588651851851854, 'Thee_Phantom.txt': 5.588600000000001, 'DJ_Logic.txt': 5.588483685220727, 'Yeat.txt': 5.588447789275636, \"Ak'Sent.txt\": 5.5876757812500015, 'Heather_B._Gardner.txt': 5.586873706004145, 'Younglord.txt': 5.586805194805192, 'Blxst.txt': 5.5866115702479355, 'Swizz_Beatz.txt': 5.586554267650153, 'Moshe_Reuven.txt': 5.585987261146498, 'Toni_Blackman.txt': 5.58566197183099, 'Afu_Ra.txt': 5.585579399141627, 'Sleep_(rapper).txt': 5.5853878406708635, 'Ms._Toi.txt': 5.585253012048192, 'Kid_Ink.txt': 5.585061452513977, 'Jae_Millz.txt': 5.584853658536585, 'MC_Lyte.txt': 5.584595300261106, 'D_Nice.txt': 5.584306418219455, 'Ash_Riser.txt': 5.584236453201968, 'Sweet_Tee.txt': 5.583904761904765, 'Larry_Larr.txt': 5.583214285714287, 'Kyle_(musician).txt': 5.583204225352113, 'MC_Frontalot.txt': 5.5827243589743585, 'Noa_James.txt': 5.582406779661012, \"Haiku_d'Etat.txt\": 5.58210810810811, 'Eli_Meltzer.txt': 5.582018469656984, 'Token_(rapper).txt': 5.581959064327482, 'Eprhyme.txt': 5.581933774834435, 'Crystal_Caines.txt': 5.581879432624112, 'Smooth_(singer).txt': 5.581831578947364, 'King_Tech.txt': 5.581777188328912, 'Sheek_Louch.txt': 5.581736111111114, 'Sammy_Adams.txt': 5.58141610087294, 'Chad_Hugo.txt': 5.581241258741268, 'Mike_Shinoda.txt': 5.58022658610272, 'CJ_Fly.txt': 5.579320388349515, 'Lil_Skies.txt': 5.579046242774565, 'Wise_(musician).txt': 5.578847457627119, 'Sho_Baraka.txt': 5.578101503759399, 'Eve_(rapper).txt': 5.578047904191622, 'Macklemore.txt': 5.578020331728196, 'O.T._Genasis.txt': 5.577116279069768, '60_Second_Assassin_(rapper).txt': 5.57685393258427, 'JGivens.txt': 5.575690607734808, 'Statik_Selektah.txt': 5.575675675675678, 'Apani_B._Fly.txt': 5.5754128440366975, 'Hobo_Johnson.txt': 5.57532803180914, 'Cardiak.txt': 5.575166320166321, 'The_Beat_Bully.txt': 5.574852071005917, 'TeeFlii.txt': 5.574090909090906, '38_Spesh.txt': 5.573992673992674, 'DJ_Jazzy_Joyce.txt': 5.573870967741936, 'LoveRance.txt': 5.57375, 'Cozz.txt': 5.573271028037381, 'Young_M.A.txt': 5.573147540983618, 'Kreayshawn.txt': 5.572953736654801, 'Murs_(rapper).txt': 5.572211895910779, 'Le1f.txt': 5.570972222222222, 'Kemba_(rapper).txt': 5.570820451843044, 'Jimmy_Spicer.txt': 5.569941520467837, 'Asaiah_Ziv.txt': 5.569769053117778, 'DJ_Disco_Wiz.txt': 5.569678160919541, 'Chevy_Woods.txt': 5.569569471624266, 'Yo_Yo_(rapper).txt': 5.5694646271510555, 'Saul_Williams.txt': 5.569354385964914, 'Andy_Mineo.txt': 5.569021058622662, 'DJ_Cheapshot.txt': 5.568454545454547, 'Darryl_McDaniels.txt': 5.568442577030798, 'Beedie_(rapper).txt': 5.568153310104527, 'Shade_Sheist.txt': 5.5676357827476, 'Iamsu!.txt': 5.567586726998489, 'Punch_(rapper).txt': 5.567373737373738, 'Vince_Staples.txt': 5.566073059360732, 'Sadistik.txt': 5.566046511627912, 'The_Futuristics.txt': 5.565585106382978, 'Wiz_Khalifa.txt': 5.564153915391533, 'Spank_Rock.txt': 5.563644067796611, 'GaTa.txt': 5.563097643097639, 'Fresh_Kid_Ice.txt': 5.562925642807499, '88_Keys.txt': 5.5628497409326405, 'Braille_(musician).txt': 5.562334437086096, 'DJ_Khalil.txt': 5.562190476190478, 'Sensato_del_Patio.txt': 5.56189189189189, 'CJ_(rapper).txt': 5.561256038647344, 'Berner_(rapper).txt': 5.561166861143517, 'Mike_Free.txt': 5.560786516853932, 'Sauce_Money.txt': 5.56027491408935, 'GZA.txt': 5.56006796941376, 'Mr._Capone_E.txt': 5.559965811965812, 'Sonaro.txt': 5.559754601226994, 'Styles_P.txt': 5.559727443609016, 'Amanda_Seales.txt': 5.559363057324834, \"Tim'm_T._West.txt\": 5.55921925829539, 'Dutch_ReBelle.txt': 5.558447761194032, 'D_Loc.txt': 5.557272727272726, 'Ohmega_Watts.txt': 5.556772151898731, 'Hodgy.txt': 5.556715542521991, 'Nappy_Nina.txt': 5.55585561497326, 'Jean_Grae.txt': 5.555852348993286, 'Grandmaster_Flash.txt': 5.555731707317067, 'Curtiss_King.txt': 5.5552071005917165, 'Skhye_Hutch.txt': 5.554807302231241, 'Ty_Dolla_Sign.txt': 5.554300137677831, 'Gift_of_Gab_(rapper).txt': 5.5520291970802935, 'Desiigner.txt': 5.551868131868128, 'Trevor_McFedries.txt': 5.551326397919375, 'Lee_on_the_Beats.txt': 5.551084905660379, 'Kevin_Federline.txt': 5.550565812983917, 'AraabMuzik.txt': 5.5504446546830595, 'Lil_Ric.txt': 5.550222222222222, 'J_Peezy.txt': 5.549918864097365, 'Nicholas_Loftin.txt': 5.549820895522388, 'Black_Pegasus.txt': 5.549728395061727, 'Bryce_Vine.txt': 5.548878281622913, 'Phresher.txt': 5.548567307692309, \"Mr._Muthafuckin'_eXquire.txt\": 5.548511627906978, 'Mr._Mixx.txt': 5.5474285714285685, 'Andre_Harrell.txt': 5.545319587628865, 'Lin_Que.txt': 5.544834834834834, 'Scott_Caan.txt': 5.544765217391305, 'Jonathan_Moore_(musician).txt': 5.54475, 'M_Dot.txt': 5.544494658997535, 'Stelios_Phili.txt': 5.544267631103077, 'Mix_Master_Mike.txt': 5.5441706161137425, 'Lecrae.txt': 5.544097989238176, 'DJ_Scratch.txt': 5.543949903660886, 'Black_Thought.txt': 5.543367521367525, 'Domo_Genesis.txt': 5.543246268656722, 'Jahlil_Beats.txt': 5.542825888787609, 'Tierra_Whack.txt': 5.542695984703634, 'Will_Smith.txt': 5.54262100456621, 'Prolyphic.txt': 5.54235294117647, 'Vado_(rapper).txt': 5.541900826446286, 'CJ_Mac.txt': 5.541793478260872, 'MC_Jazzy_Jeff.txt': 5.541124260355034, 'Mr._J._Medeiros.txt': 5.540138089758341, 'Nitty_(musician).txt': 5.539411764705882, 'Peace_(rapper).txt': 5.539251559251556, 'Lil_Debbie.txt': 5.538556034482768, 'Asher_Roth.txt': 5.5381063122923555, 'Jay_Z.txt': 5.538102923264322, 'Roscoe_(rapper).txt': 5.537930029154523, 'Mike_Zombie.txt': 5.5379238754325275, 'Mos_Def.txt': 5.536642995480954, 'Brother_Marquis.txt': 5.536260012322857, 'Kendrick_Lamar.txt': 5.536137449941882, 'Melle_Mel.txt': 5.535178979436402, 'Dave_East.txt': 5.535130609511052, 'Funkmaster_Flex.txt': 5.534409937888199, 'Mayne_Mannish.txt': 5.534335260115609, 'DJ_Premier.txt': 5.53393442622951, 'JT_the_Bigga_Figga.txt': 5.533710801393731, 'Dumbfoundead.txt': 5.533382624768949, 'Tha_Trademarc.txt': 5.533373983739833, 'Taboo_(rapper).txt': 5.533194312796211, 'DJ_Richie_Rich.txt': 5.533043478260874, 'Lady_May_(rapper).txt': 5.532853025936599, 'Bizzle.txt': 5.532736418511063, 'Ali_Shaheed_Muhammad.txt': 5.532458333333332, 'A_Plus_(rapper).txt': 5.532291666666669, 'Fetty_Wap.txt': 5.532057949479937, 'U_God.txt': 5.532034482758616, 'Dusty_Locane.txt': 5.531947743467933, 'Q_Tip_(musician).txt': 5.53164048227987, 'Dizzy_Wright.txt': 5.531588868940751, 'Mr._Lif.txt': 5.531084337349398, 'Charli_Baltimore.txt': 5.530242587601079, 'Rob_Stone_(rapper).txt': 5.530102564102563, 'Scar_Lip.txt': 5.530060606060603, 'Beefy_(rapper).txt': 5.529259259259255, 'Rockwilder.txt': 5.529007352941177, 'Aesop_Rock.txt': 5.527273701124804, 'Shock_G.txt': 5.526767219708401, 'Ed_Lover.txt': 5.526666666666662, 'Earl_Sweatshirt.txt': 5.526644993498045, 'Getter_(DJ).txt': 5.526089354660779, 'Dom_Sicily.txt': 5.526021505376345, 'Ghostface_Killah.txt': 5.5258323699422, 'Eyenine.txt': 5.5255956112852695, 'Myka_9.txt': 5.5255524344569364, 'Ab_Soul.txt': 5.525424806905949, 'Cordae.txt': 5.525197255574611, 'Joell_Ortiz.txt': 5.524773561811508, 'Young_Chris.txt': 5.524518613607187, 'Bishop_Nehru.txt': 5.5242458100558665, 'Amil.txt': 5.524090909090908, 'Knxwledge.txt': 5.523930753564152, 'Damani_Nkosi.txt': 5.523801916932912, 'Siya.txt': 5.523780219780224, 'Skeme.txt': 5.523778767631768, 'Mic_Geronimo.txt': 5.523670886075948, 'Big_Shug.txt': 5.523572453371594, 'Ty_Fyffe.txt': 5.523325301204822, 'Silkski.txt': 5.523165537270087, 'Westside_Gunn.txt': 5.522926356589148, 'Memphis_Bleek.txt': 5.522560679611647, 'Adeem_(rapper).txt': 5.522500000000002, 'Mikey_D.txt': 5.522246642246643, 'Cory_Gunz.txt': 5.521966292134834, 'Don_Cannon.txt': 5.521910499139415, 'Tedashii.txt': 5.521541095890413, 'Shawn_Fonteno.txt': 5.52034682080925, 'Mickey_Factz.txt': 5.520099132589834, 'Nick_Cannon.txt': 5.51975321336761, 'Charles_Hamilton_(rapper).txt': 5.519714540588767, 'Hit_Boy.txt': 5.519471106758081, 'Easy_Mo_Bee.txt': 5.519190082644627, 'Blueface.txt': 5.518616838487967, 'Fivio_Foreign.txt': 5.517915194346289, 'Tiger_JK.txt': 5.5178743961352685, 'Pumpkinhead_(rapper).txt': 5.517470449172579, 'Sensational_(musician).txt': 5.5165624999999965, 'Bronx_Style_Bob.txt': 5.516133942161337, 'Kangol_Kid.txt': 5.5160695187165745, 'Big_B_(rapper).txt': 5.51579937304075, 'Sean_Combs.txt': 5.5157057142857315, 'Percee_P.txt': 5.515680473372782, 'DJ_Babu.txt': 5.515594149908593, 'Blockhead_(music_producer).txt': 5.515245901639339, 'Problem_(rapper).txt': 5.515017667844523, 'Grandmaster_Caz.txt': 5.5150069735006975, 'Azealia_Banks.txt': 5.514988228369625, 'Nine_(rapper).txt': 5.514977973568281, 'Kosha_Dillz.txt': 5.514586070959262, 'Disco_King_Mario.txt': 5.514500000000002, 'East_Flatbush_Project.txt': 5.514453125000001, 'Scoop_DeVille.txt': 5.514278350515466, 'David_Rush_(rapper).txt': 5.514192139737992, 'Grafh.txt': 5.514182509505707, 'Nocando.txt': 5.514156626506023, 'Jasiri_X.txt': 5.514145658263307, 'Danny_Boy_(rapper).txt': 5.514052711993883, 'Willie_B_(producer).txt': 5.513825000000001, 'Consequence_(rapper).txt': 5.513289124668437, 'Joyner_Lucas.txt': 5.512923529411753, 'Cappadonna.txt': 5.512853470437019, 'MC_Lars.txt': 5.512637244348755, 'Arkatech_Beatz.txt': 5.512322456813815, 'ASAP_Twelvyy.txt': 5.511947565543073, 'Abstract_Rude.txt': 5.51188432835821, 'Big_Daddy_Kane.txt': 5.511468812877271, 'Locksmith_(rapper).txt': 5.511412742382273, 'Danger_Mouse_(musician).txt': 5.511024096385542, 'Mach_Hommy.txt': 5.510309734513276, 'RZA.txt': 5.510103595368683, 'Marley_Marl.txt': 5.510088626292466, 'Mac_Miller.txt': 5.509812450119712, 'Zealous1.txt': 5.509740820734342, 'Schoolboy_Q.txt': 5.509590443686, 'Ahmad_(rapper).txt': 5.5089389920424425, 'Large_Professor.txt': 5.5085152057245095, 'Tyler,_the_Creator.txt': 5.508472755180367, 'Tone_Trump.txt': 5.508277027027028, 'Aztlan_Underground.txt': 5.5082531645569635, 'ASAP_Ferg.txt': 5.507639282341834, 'Hot_Rod_(rapper).txt': 5.507304147465439, 'Smoke_DZA.txt': 5.506801470588238, 'Jaz_O.txt': 5.5066194331983835, 'Roc_Marciano.txt': 5.506119402985077, 'Chris_Webby.txt': 5.506114537444937, 'Stezo.txt': 5.506000000000001, 'Talib_Kweli.txt': 5.505356169715837, 'Lil_Mosey.txt': 5.50394861660079, 'Fatlip.txt': 5.503347280334725, 'The_45_King.txt': 5.5032814238042365, 'Redman_(rapper).txt': 5.503005904455171, 'Mack_10.txt': 5.5027027027027025, 'DVLP.txt': 5.502692725298583, 'ILoveMakonnen.txt': 5.502439729990356, 'RiceGum.txt': 5.5022520661156955, 'J.R._Writer.txt': 5.501618497109827, 'Slaine_(rapper).txt': 5.5015873015873025, 'E_40.txt': 5.501504045692526, 'David_Stones.txt': 5.500617848970254, 'Mac_Mall.txt': 5.500325077399385, 'The_Audible_Doctor.txt': 5.500294117647061, 'Mike_Jaggerr.txt': 5.499973890339422, 'Dame_Grease.txt': 5.499618226600981, 'McGruff_(rapper).txt': 5.498958990536278, 'Tairrie_B.txt': 5.498755102040816, 'Iame_(rapper).txt': 5.498561872909701, 'Queen_Pen.txt': 5.4976523297491005, 'Nissim_Black.txt': 5.497418909592822, 'Wyldfyer.txt': 5.497103448275861, 'Clyde_Carson.txt': 5.497075242718444, 'Pharoahe_Monch.txt': 5.496925434116444, 'Madlib.txt': 5.49673684210527, 'NOE_(rapper).txt': 5.496084425036387, 'Fabolous.txt': 5.495947712418306, 'Del_the_Funky_Homosapien.txt': 5.495825301204818, 'Marty_Baller.txt': 5.49555172413793, 'G_Koop.txt': 5.495243757431628, 'Sheck_Wes.txt': 5.494722222222224, 'Bodega_Bamz.txt': 5.494606741573032, 'Alias_(musician).txt': 5.494238683127575, 'Afrika_Bambaataa.txt': 5.493398230088488, 'Freddie_Foxxx.txt': 5.493297150610583, 'Guerilla_Black.txt': 5.49316091954023, 'Ali_Tabatabaee.txt': 5.492464589235129, 'Capital_Steez.txt': 5.492190201729104, \"Lil'_Kim.txt\": 5.491328039430457, 'Turbo_B.txt': 5.491185770750984, 'King_T.txt': 5.491169451073983, 'Jel_(music_producer).txt': 5.491065759637188, 'Joey_Badass.txt': 5.490524239007887, 'French_Montana.txt': 5.489494969421973, 'Drag_On.txt': 5.489347826086957, 'Rakim.txt': 5.488893323657476, 'Grieves.txt': 5.48880886426593, 'Prince_Paul_(producer).txt': 5.48864624505928, 'Method_Man.txt': 5.488168061815841, 'Buckshot_(rapper).txt': 5.488106416275433, 'Bones_(rapper).txt': 5.487355679702046, 'Pete_Rock.txt': 5.487048458149783, 'Nobody_(producer).txt': 5.486766467065864, 'Seagram_(rapper).txt': 5.486666666666666, 'DJ_Drama.txt': 5.48665827036103, 'Coolio.txt': 5.486592718998871, 'Juelz_Santana.txt': 5.486111111111108, 'DJ_Charlie_Chase.txt': 5.4845526838966165, 'Too_Short.txt': 5.484040114613185, 'Young_Noble.txt': 5.484038461538461, 'Sole_(hip_hop_artist).txt': 5.482805755395683, 'J57_(rapper).txt': 5.482369369369369, 'Biz_Markie.txt': 5.482357673267323, 'Spoonie_Gee.txt': 5.481479400749067, 'Knero_Lapaé.txt': 5.481324376199619, 'Luni_Coleone.txt': 5.481149999999998, 'Afroman.txt': 5.480942249240116, 'Sage_Francis.txt': 5.480810473815459, 'Rob_Lewis_(record_producer).txt': 5.480574162679427, 'Louis_Logic.txt': 5.479208400646207, 'B_Legit.txt': 5.478593155893536, 'AZ_(rapper).txt': 5.478464528668606, 'Time_(rapper).txt': 5.478156182212578, 'Ed_O.G..txt': 5.477916102841679, 'Ant_Banks.txt': 5.477479784366576, 'Benny_the_Butcher.txt': 5.476602086438153, 'Hi_C_(rapper).txt': 5.476521739130434, 'Busta_Rhymes.txt': 5.4763351095322665, 'B._Dolan.txt': 5.476299212598423, 'Kokane.txt': 5.476079854809437, 'Mathematics_(producer).txt': 5.474822043628016, 'Phife_Dawg.txt': 5.474484536082469, 'Judge_Da_Boss.txt': 5.473882352941175, 'Guru_(rapper).txt': 5.47359658484525, 'Keak_da_Sneak.txt': 5.473579418344514, 'The_Alchemist_(musician).txt': 5.473396842678273, 'Young_Maylay.txt': 5.473180628272251, 'Kool_Moe_Dee.txt': 5.472872215709264, '03_Greedo.txt': 5.472735961768222, 'Frost_(rapper).txt': 5.472700296735909, 'Lloyd_Banks.txt': 5.4726310861423135, 'Street_Life_(rapper).txt': 5.472542372881357, 'Termanology.txt': 5.472424722662441, 'Boots_Riley.txt': 5.472416488983652, 'Laz_D.txt': 5.472105263157896, 'O.C._(rapper).txt': 5.471827057182704, 'DJ_Kay_Slay.txt': 5.47169844020797, 'JPEGMafia.txt': 5.471423699914744, 'Joey_Fatts.txt': 5.471131782945742, 'Jamie_Kennedy.txt': 5.470764563106796, 'Dash_(rapper).txt': 5.470546448087435, 'Show_Banga.txt': 5.469618208516888, \"Rappin'_4_Tay.txt\": 5.4692050209205005, 'San_Quinn.txt': 5.468426150121072, 'Paris_(rapper).txt': 5.468183745583029, 'Self_Jupiter.txt': 5.467984790874524, 'Casanova_(rapper).txt': 5.467925764192142, 'Petey_Pablo.txt': 5.465767857142855, 'Pusha_T.txt': 5.46490327780762, 'Nipsey_Hussle.txt': 5.464846206425152, 'Spice_1.txt': 5.464305555555553, 'Mase.txt': 5.464164021164014, 'Busdriver.txt': 5.464098984771574, 'Esoteric_(rapper).txt': 5.4629112833764, 'Neo_da_Matrix.txt': 5.462628992628991, 'Chilla_Jones.txt': 5.462357723577234, 'Sadat_X.txt': 5.462261904761906, 'Red_Café.txt': 5.462050473186117, 'Warren_G.txt': 5.461802860061287, 'K_the_I.txt': 5.461515151515152, 'Coke_La_Rock.txt': 5.461428571428565, 'Heavy_D.txt': 5.46089330024814, 'Lil_Rob.txt': 5.4601295336787565, \"Lil'_Cease.txt\": 5.460069686411146, 'Soopafly.txt': 5.459973262032085, 'Pooh_Man.txt': 5.459844961240309, 'Sleepy_Hallow.txt': 5.459829683698299, 'KRS_One.txt': 5.45943432042521, 'Big_Syke.txt': 5.459045454545459, 'Antwon.txt': 5.458911564625851, 'Rah_Swish.txt': 5.458677884615384, 'Nas.txt': 5.457730001622587, 'Sha_Money_XL.txt': 5.456490566037731, 'Bishop_Lamont.txt': 5.455201793721972, 'DJ_Hurricane.txt': 5.454280155642021, 'Diabolic_(rapper).txt': 5.454196185286104, 'Havoc_(musician).txt': 5.454108527131781, 'Chyskillz.txt': 5.453041362530413, 'DJ_Whoo_Kid.txt': 5.452706349206348, 'Samuel_T._Herring.txt': 5.452564575645757, 'N.O.R.E..txt': 5.452112000000002, \"Cam'ron.txt\": 5.4508167539267065, 'Conway_the_Machine.txt': 5.450442105263157, 'Islord.txt': 5.450229007633587, 'Yukmouth.txt': 5.448957816377172, 'Skinhead_Rob.txt': 5.446880222841225, 'Harry_Fraud.txt': 5.446668989547033, 'Ice_Cube.txt': 5.445821462488122, 'Xzibit.txt': 5.445321143928742, 'Inspectah_Deck.txt': 5.44477732793522, 'Lefty_(rapper).txt': 5.4441099476439785, 'The_Game_(rapper).txt': 5.443541446208115, \"Shaquille_O'Neal.txt\": 5.442996002524733, 'Don_Q_(rapper).txt': 5.442794117647054, 'Domino_(rapper).txt': 5.442588235294117, 'Rydah_J._Klyde.txt': 5.442010050251259, 'Ice_T.txt': 5.441739420935415, 'Serius_Jones.txt': 5.441288433382137, 'Cuban_Link.txt': 5.44111111111111, 'Aceyalone.txt': 5.441100000000002, 'Jadakiss.txt': 5.440389999999993, 'Kossisko.txt': 5.439945414847162, 'Malik_B..txt': 5.4398387096774234, 'ASAP_Nast.txt': 5.439470198675501, 'ZillaKami.txt': 5.438634812286685, 'Keef_Cowboy.txt': 5.4386175115207385, 'WC_(rapper).txt': 5.4382352941176535, 'Apathy_(rapper).txt': 5.437837837837838, 'YG_(rapper).txt': 5.437589336358483, 'Tone_Loc.txt': 5.437318573185732, '50_Cent.txt': 5.437238165317638, 'Lil_Xan.txt': 5.436882183908048, 'Eric_B..txt': 5.435737704918029, 'El_P.txt': 5.43527379949452, 'DJ_Quik.txt': 5.435139333028774, 'Joe_Budden.txt': 5.434676923076914, 'Ras_Kass.txt': 5.434120065789476, 'B_Real.txt': 5.433997965412003, 'Thurz.txt': 5.432198581560286, 'Q_Da_Fool.txt': 5.430873786407769, 'Erick_Sermon.txt': 5.43082802547771, 'Mistah_F.A.B..txt': 5.43050080775444, 'Kool_G_Rap.txt': 5.428911516853934, 'Sir_Jinx.txt': 5.428439153439152, 'Hell_Razah.txt': 5.427125850340126, 'Oh_No_(musician).txt': 5.426579925650561, 'Lil_B.txt': 5.425939887926645, 'Lil_Tjay.txt': 5.424946770759401, 'Big_Ed_(rapper).txt': 5.424911032028472, 'Hopsin.txt': 5.424741744284507, 'Mitchy_Slick.txt': 5.4234056399132315, 'MC_Eiht.txt': 5.42262376237624, 'MF_Grimm.txt': 5.422099236641223, 'Frenchie_(rapper).txt': 5.421801596351195, 'Lil_Peep.txt': 5.421311102690421, 'Remy_Ma.txt': 5.420711578947361, 'Adam_Hicks.txt': 5.420665399239539, 'Saigon_(rapper).txt': 5.420409924487593, 'Lil_Italy.txt': 5.420342465753427, 'Oryn_the_Rebel.txt': 5.4199103139013465, 'DTTX_(rapper).txt': 5.419749999999999, 'Sean_Price.txt': 5.4194262295082005, 'Raz_Simone.txt': 5.418888888888889, 'Canibus.txt': 5.418128123580191, 'O.Y.G_Redrum_781.txt': 5.417527352297591, 'Buckwild_(music_producer).txt': 5.415926892950386, 'Hittman.txt': 5.414834437086094, 'Dazzie_Dee.txt': 5.4148126801152765, 'Craig_Mack.txt': 5.413171070931849, 'Capone_(rapper).txt': 5.412882352941179, 'Dr._Dre.txt': 5.412793657882993, 'Akrobatik.txt': 5.411075268817203, 'Foxy_Brown_(rapper).txt': 5.41080211880438, 'Slim_the_Mobster.txt': 5.41047318611988, 'Fred_the_Godson.txt': 5.410393939393939, 'Crooked_I.txt': 5.409819819819818, 'ASAP_Rocky.txt': 5.409669915121036, 'The_D.O.C..txt': 5.4093856402664695, 'Treach.txt': 5.407984693877556, 'Skinnyfromthe9.txt': 5.407906976744186, 'Black_Child.txt': 5.407730956239865, 'Kastro_(rapper).txt': 5.407209944751381, '22Gz.txt': 5.406885245901639, 'Sam_Sneed.txt': 5.406825938566554, 'The_Unknown_DJ.txt': 5.406618075801747, 'Cage_(rapper).txt': 5.4053152434158, 'Cut_Chemist.txt': 5.402128801431124, 'Snoop_Dogg.txt': 5.401520452452968, 'OhGeesy.txt': 5.401159420289857, 'Kiing_Shooter.txt': 5.400033003300328, 'Pras.txt': 5.399120267260576, 'Chinx.txt': 5.398375394321768, 'Just_Ice.txt': 5.397707006369426, 'John_Cena.txt': 5.397628767847693, 'RBX.txt': 5.397317647058826, 'Shorty_(American_rapper).txt': 5.396881188118808, 'MF_Doom.txt': 5.396315604085946, 'Pop_Smoke.txt': 5.3945955249569675, 'Masta_Killa.txt': 5.394419225634178, 'Big_L.txt': 5.388109815354721, 'Big_Pun.txt': 5.386593291404609, 'Fat_Joe.txt': 5.385923636363626, 'Freekey_Zekey.txt': 5.384904306220098, 'Demrick.txt': 5.38452914798206, 'Schoolly_D.txt': 5.383802612481859, 'Captain_Rapp.txt': 5.3829310344827626, 'Jamal_Phillips.txt': 5.38033834586466, 'The_Notorious_B.I.G..txt': 5.37957235508715, 'V_Nasty.txt': 5.379475409836067, 'No_Malice.txt': 5.375922920892501, 'Tupac_Shakur.txt': 5.368553999096252, 'Tha_Chill.txt': 5.367393364928912, 'Houston_(singer).txt': 5.366610738255035, 'Ceschi.txt': 5.366553030303028, 'Myzery.txt': 5.366373748609565, 'YGD_Tha_Top_Dogg.txt': 5.365218855218856, 'Hurt_M_Badd.txt': 5.36517857142857, 'Apache_(rapper).txt': 5.363057324840765, 'Godfather_Don.txt': 5.360631067961166, '9th_Prince.txt': 5.36016393442623, 'Shyne.txt': 5.360119889332927, 'Felicia_Pearson.txt': 5.359344537815125, 'Sheff_G.txt': 5.35838762214984, 'Keith_Murray.txt': 5.3556775067750655, 'Eazy_E.txt': 5.355105386416866, 'Nate_Dogg.txt': 5.354574753804831, 'Cassidy_(rapper).txt': 5.3540543161978675, 'Scott_La_Rock.txt': 5.35041262135922, 'Black_Rob.txt': 5.348111888111881, 'Shady_Nate.txt': 5.345362694300522, 'Uncle_Murda.txt': 5.340416666666669, 'Ja_Rule.txt': 5.337840961627359, 'E.D.I._Mean.txt': 5.336926994906629, 'Meek_Mill.txt': 5.3360533279055735, 'Beanie_Sigel.txt': 5.332530378842018, 'Knightowl.txt': 5.330363636363637, 'Messy_Marv.txt': 5.328534201954397, 'Hussein_Fatal.txt': 5.327307692307691, 'Irv_Gotti.txt': 5.326783114992721, '6ix9ine.txt': 5.326043468618306, '40_Glocc.txt': 5.325844298245612, 'Brotha_Lynch_Hung.txt': 5.32489603024575, 'Half_a_Mill.txt': 5.324854368932038, 'Kurupt.txt': 5.324681784930505, 'Flash_Bang_Grenada.txt': 5.322456140350878, 'Spider_Loc.txt': 5.3218273381294905, 'Prodigy_(rapper).txt': 5.318466522678176, 'Ill_Bill.txt': 5.317566735112931, 'Tony_Yayo.txt': 5.3171892655367206, 'DMX.txt': 5.316856203007522, 'Daz_Dillinger.txt': 5.314796320630746, 'The_Jacka.txt': 5.307757575757576, 'Tim_Dog.txt': 5.305185185185187, 'Jam_Master_Jay.txt': 5.297178030303029, 'Benzino.txt': 5.294656964656965, 'Mac_Dre.txt': 5.286324582338908, 'Isaiah_Toothtaker.txt': 5.286124031007752, 'China_Mac.txt': 5.284119241192413, 'Necro_(rapper).txt': 5.280465337131997, 'Slow_Pain.txt': 5.278412162162163, 'Drakeo_the_Ruler.txt': 5.27564705882353, 'Jimmy_Wopo.txt': 5.272624999999998, 'MC_Trouble.txt': 5.265845588235292, 'AR_Ab.txt': 5.2653738317756975, 'Bobby_Shmurda.txt': 5.263807148794675, 'Cool_C.txt': 5.2538976377952755, 'Killa_Sin.txt': 5.248490566037733, 'Droop_E.txt': 5.245639581657277, 'Hell_Rell.txt': 5.232443438914029, \"Ol'_Dirty_Bastard.txt\": 5.21766476388167, 'Slip_Capone.txt': 5.1753658536585405, 'Bavgate.txt': 0, 'Beeda_Weeda.txt': 0, \"Captain_Save_'Em.txt\": 0, 'DB_Tha_General.txt': 0, 'Den_Fenn.txt': 0, 'Dolla_Will.txt': 0, 'Dubb_20.txt': 0, 'Duna_(rapper).txt': 0, 'GFMBryyce.txt': 0, 'G_Nut.txt': 0, 'G_Stack.txt': 0, 'Kaveo.txt': 0, 'Killa_Keise.txt': 0, \"Lil'_C_Style.txt\": 0, 'Lil_Coner.txt': 0, 'Lil_Uno.txt': 0, 'Mac_Shawn.txt': 0, 'Miami_(rapper).txt': 0, 'Mr._Skrillz.txt': 0, 'Mugzi.txt': 0, 'Oompa_(rapper).txt': 0, 'Phats_Bossi.txt': 0, 'Phil_Da_Agony.txt': 0, 'Prodeje.txt': 0, 'RJ_(rapper).txt': 0, 'Snupe.txt': 0, 'Stressmatic.txt': 0, 'Stunnaman.txt': 0, 'T_Pup.txt': 0, 'Tap_Dat_Ass.txt': 0, 'V_White.txt': 0, 'Vidal_Prevost.txt': 0, 'Young_Dru.txt': 0, 'Young_L.txt': 0}\n"
     ]
    }
   ],
   "source": [
    "happiness_scores = {}\n",
    "for file_id in all_corpus.fileids():\n",
    "    text_raw = all_corpus.raw(file_id)\n",
    "    happiness_scores[file_id]=get_happiness_score(text_raw, dict_avg_happiness)\n",
    "\n",
    "happiness_scores=dict(sorted(happiness_scores.items(), key=lambda x:x[1], reverse=True))\n",
    "print(happiness_scores)"
   ]
  },
  {
   "cell_type": "code",
   "execution_count": 67,
   "metadata": {},
   "outputs": [
    {
     "data": {
      "image/png": "[encoded data removed]",
      "text/plain": [
       "<Figure size 640x480 with 1 Axes>"
      ]
     },
     "metadata": {},
     "output_type": "display_data"
    }
   ],
   "source": [
    "happiness_scores_list = list(happiness_scores.values())\n",
    "# make a histogram of the happiness scores\n",
    "plt.hist(happiness_scores_list, bins=50)\n",
    "plt.show()\n"
   ]
  },
  {
   "cell_type": "code",
   "execution_count": 68,
   "metadata": {},
   "outputs": [
    {
     "name": "stdout",
     "output_type": "stream",
     "text": [
      "DJ_Webstar.txt 5.918356164383562\n",
      "Like_(record_producer).txt 5.808294930875573\n",
      "Mark_Batson.txt 5.803961538461526\n",
      "KC_Montero.txt 5.8011445783132505\n",
      "Young_Music_DYMG.txt 5.786207951070336\n",
      "Foreknown_(rapper).txt 5.777884615384617\n",
      "Theo_Martins.txt 5.776470588235295\n",
      "Emcee_N.I.C.E..txt 5.764515050167221\n",
      "Sky_Blu_(rapper).txt 5.761993299832495\n",
      "D_Smoke.txt 5.758519855595667\n",
      "Snupe.txt 0\n",
      "Stressmatic.txt 0\n",
      "Stunnaman.txt 0\n",
      "T_Pup.txt 0\n",
      "Tap_Dat_Ass.txt 0\n",
      "V_White.txt 0\n",
      "Vidal_Prevost.txt 0\n",
      "Young_Dru.txt 0\n",
      "Young_L.txt 0\n"
     ]
    }
   ],
   "source": [
    "for i, file_id in enumerate(happiness_scores):\n",
    "    if i < 10:\n",
    "        print(file_id, happiness_scores[file_id])\n",
    "    if i > len(happiness_scores)-10:\n",
    "        print(file_id, happiness_scores[file_id])"
   ]
  },
  {
   "cell_type": "markdown",
   "metadata": {},
   "source": [
    "*Exercise 2*: West coast and East coast.\n",
    "\n",
    "Now, let's check if the pages of rappers from different coasts tend to have different sentiment. \n",
    "\n",
    "> * First, think about it for a second: Do you expect pages of rappers from different coasts to have different sentiment? Why/why not?\n",
    "> * Next, Download [this file](https://github.com/SocialComplexityLab/socialgraphs2023/edit/main/files/Rappers.csv) if you do not have it already.\n",
    "> * Start by plotting the distribution of sentiment for the pages of east-coast and west-coast rappers separately. \n",
    "> * Now calculate the mean, median, 10th percentile, and 90 percentile sentiment value for each coast and indicate those values on the corresponding histograms.\n",
    "> * Comment on these distributions and how they relate to the overall sentiment distribution you calculated in Exercise 1 above.\n",
    "> * Use the \"label shuffling technique\" that I illustrated in **Week 5, exercise 7** to determine whether or not \n",
    ">   1. the west-coast pages tend to have lower sentiment than a similarly sized group of randomly chosen rapper pages (pick random groups 1000 times and reject the hypothesis if 5% of the random outcomes are lower than the actual value observed for the west-coast pages)\n",
    ">   2. the west-coast pages tend to have higher sentiment than a similarly sized group of randomly chosen character pages (again, use 1000 random draws and a 5% confidence bound).\n",
    ">   3. (**optional**) Perhaps there are other divisions of rappers whose pages would be more likely to have different sentiment. Perhaps comparing groups of rappers of different sexes, races, etc. would give interesting results? Feel free to do a deep dive here, and let me know which groups you analyze and how you end up \"guessing\" a rapper's sex, race, etc. \n",
    "\n",
    "Comment: The \"label shuffling technique\" is incredibly useful. It may turn out to be a good tool to apply for your independent project. Keep it in mind."
   ]
  },
  {
   "cell_type": "markdown",
   "metadata": {},
   "source": [
    "# Part B (optional): The Wikispeedia Extravaganza\n",
    "\n",
    "This final **AND OPTIONAL** exercise is about tying everything together. In this context \"optional\" means that the exercises below will not be on the assignment (but they're fun & cool).\n",
    "\n",
    "We try to combine our work on networks plus our work on language in order to understand and analyze human behavior. We'll be working on a cool dataset of humans playing a game on (a special version of) wikipedia called \"wikispeedia\".  Note that the game is now called *The Wiki Game* and can be found at http://thewikigame.com/ ( ... while \"http://wikispeedia.org\" is a page about GPS coordinates of speed-traps). \n",
    "\n",
    "Here's how the game worked:\n",
    "\n",
    "> In the game, users are asked to navigate from a given _source_ article (e.g. https://en.wikipedia.org/wiki/Gold_dollar) to a given _target_ article (e.g. https://en.wikipedia.org/wiki/Ronald_Reagan), **by only clicking Wikipedia links**. A condensed version of Wikipedia (4,604 articles) is used. \n",
    "\n",
    "So this dataset contains **human navigation paths** (clicking from page to page to find a target) and today we will work on this dataset to see if we can use our skills to understand how human navigation works. We will think about the following questions.\n",
    "\n",
    "* Path lengths\n",
    "* Betweenness from the human perspective\n",
    "* What characterizes human paths?\n",
    "\n",
    "Let's get started."
   ]
  },
  {
   "cell_type": "markdown",
   "metadata": {},
   "source": [
    "### Download the dataset\n",
    "\n",
    "The first thing we're going to do is download the dataset. Today everything related to data is nice, clean, and easy to work with (Yay). You can get the dataset [here](https://snap.stanford.edu/data/wikispeedia.html). You will need to get \n",
    "\n",
    "* The list of wiki articles\n",
    "* The network connections\n",
    "* The navigation paths\n",
    "* Plaintext of the wiki articles"
   ]
  },
  {
   "cell_type": "markdown",
   "metadata": {},
   "source": [
    "### Path lengths\n",
    "\n",
    "The first thing we want to take a look at is path lengths. NetworkX allows us to calculate the shortest path between any pair of articles. We begin by comparing the length of human and shortests paths. \n",
    "\n",
    "_Optional Exercises 1_\n",
    "> * For each _source_/_target_ pair in the list of human navigation paths, calculate the shortest path using NetworkX. Plot the distribution of path lengths. Mine looks something like this (if I use an undirected graph):\n",
    "![alt text](https://raw.githubusercontent.com/suneman/socialgraphs2016/master/files/shortest-path.png)\n",
    "\n",
    "\n",
    "> * For each _source_/_target_ pair, calculate the length of the human path. The dataset contains information on people who regret a navigation step and hit the \"back\" button in their web-browser. It's up to you how to incorporate that information in the path. Justify your choice. Plot the distribution of human path lengths. If I ignore back steps, I get this on log-log scale:\n",
    "![alt text](https://raw.githubusercontent.com/suneman/socialgraphs2016/master/files/human-path.png)\n",
    "\n",
    "> * How much longer are the human paths on average?\n",
    "> * Create scatter plot where each point is a _source_/_target_ pair, and you have human path lengths on the $x$-axis and shortests paths on the $y$-axis.\n",
    "> * Is there a correlation between human/shortest path-lengths? What is the correlation."
   ]
  },
  {
   "cell_type": "markdown",
   "metadata": {},
   "source": [
    "### Betweenness\n",
    "\n",
    "An interesting definition of centrality is _betweenness centrality_ (here's a handy [link to the NetworkX documentation](http://networkx.readthedocs.io/en/stable/reference/generated/networkx.algorithms.centrality.betweenness_centrality.html)). In a traditional setting, this measure calculates all shortest paths in the network and then each node gets a score according to which fraction of all shortest paths pass through that node.\n",
    "\n",
    "\n",
    "In this part, we will create our own version of centrality, based on the _source_/_target_ pairs in our dataset. We define a node's **navigation centrality** as follows. \n",
    "\n",
    "> *Navigation centrality* of node $i$ is the fraction of all navigation paths that pass through $i$. We exclude the source and target from the count. If a node has not been visited by a search, the navigation centrality of that node is defined to be zero.\n",
    "\n",
    "In the exercises below, we investigate the relationship between navigation centrality and betweenness centrality."
   ]
  },
  {
   "cell_type": "markdown",
   "metadata": {},
   "source": [
    "*Optional Exercises 2*\n",
    "\n",
    "> Begin by calculating the betweenness centrality and navigation centrality of all nodes in the Wikispeedia dataset.\n",
    "> Note that calculating the betweenness centrality can take quite a long time, so you might start it running in a separate notebook while first estimating it based on the existing human path.\n",
    ">\n",
    "> * First, list the 5 pages with highest navigation centrality.\n",
    "> * Second, list the 5 pages with highest betweenness centrality.\n",
    "> * Compare the two lists. Explain the differences between the two lists in your own words.\n",
    "> * Create a scatterplot of betweenness centrality vs. navigation centrality.\n",
    "> * Let's explore the pages that have navigation centrality equal to zero.\n",
    ">   * How many pages have zero navigation centrality?\n",
    ">   * What is the the page with zero navigation centrality and highest betweenness centrality? Can you explain why no human navigated to this page? Can you explain why the page is central in the actual link network? (For example, you can take a look at the degree of the node).\n",
    ">   * Plot the distribution of betweenness centrality for the pages with zero navigation centrality. My plot on log-log scale:\n",
    "![alt text](https://raw.githubusercontent.com/suneman/socialgraphs2016/master/files/betweenness.png)\n",
    "\n",
    "> * Now, let's *throw out all pages with zero navigation centrality* and compare navigation- and betweenness centrality for the remaining pages.\n",
    ">   * What is the correlation between betweenness centrality and navigation centrality?\n",
    ">   * Comment on the top 5 outliers."
   ]
  },
  {
   "cell_type": "markdown",
   "metadata": {},
   "source": [
    "# Bringing the text into the picture\n",
    "\n",
    "Now that we have an idea about the differences between how humans and computers search in networks, we are going to dig a little deeper using the page content to test a hypothesis to explain why the human navigation paths are longer. The general idea is that humans (who don't know about the global network structure) tend to jump between pages that have related _content_. For this reason we expect that (on average) human navigation paths have more similar content than the shortest paths in the network (which might take 'surprising' shortcuts via relatively unrelated pages). In short.\n",
    "\n",
    "> **Hypothesis H1**: Human navigation paths have more similar content than network shortest paths.\n",
    "\n",
    "The way we'll test this hypothesis is to first represent each page as a vector using a bag-of-words approach, then we can calculate a distance between pairs of pages using some vector-space difference, and finally we'll characterize each path by its average pair-wise distance. Below, I've set up that process as an exercise. "
   ]
  },
  {
   "cell_type": "markdown",
   "metadata": {},
   "source": [
    "*Optional Exercises 3*\n",
    "\n",
    "> First, create a TF-IDF vector for each page. You already know all about TF-IDF from last week's exercise. The main difference is that we now _characterize **each page** by a TF-IDF vector_ and not a group of pages.\n",
    "> \n",
    "> Second, write a function that calculates the distance between a pair of vectors. There are many ways to calculate distances between a pair of vectors (try a Google search for `vector space distance measures` if you want to refresh your knowledge on this topic). You're free to choose what you want, but we recommend the [cosine similarity](https://en.wikipedia.org/wiki/Cosine_similarity).\n",
    ">\n",
    "> Now you're ready for the exercises\n",
    "> \n",
    "> * Calculate the average pairwise similarity for all human navigation paths (the _source_/_target_ pairs from above). With start and end at node $i,j$ we can call this similarity $s_{i,j}$. Calculate mean/variance of the $s_{ij}$'s.\n",
    "> * Calculate the average pairwise similarity for all shortest paths between the _source_/_target_ pairs ($S_{i,j}$). Calculate mean/variance of the $S_{i,j}$.\n",
    "> * Plot the distributions of average similarities for both human- and shortest paths in a single plot. If everything works well, you should see something similar to the following:\n",
    "![alt text](https://raw.githubusercontent.com/suneman/socialgraphs2016/master/files/path-similarity.png)\n",
    "\n",
    "> * Finally, for each source/target pair, compare the human-navigation average similarity with the betweenness based average similarity, testing what fraction of the time, the average similarity is lower in the case of human navigation.\n",
    "> * Comment on your findings. Is **H1** true?"
   ]
  },
  {
   "cell_type": "code",
   "execution_count": null,
   "metadata": {},
   "outputs": [],
   "source": []
  }
 ],
 "metadata": {
  "kernelspec": {
   "display_name": "Python 3 (ipykernel)",
   "language": "python",
   "name": "python3"
  },
  "language_info": {
   "codemirror_mode": {
    "name": "ipython",
    "version": 3
   },
   "file_extension": ".py",
   "mimetype": "text/x-python",
   "name": "python",
   "nbconvert_exporter": "python",
   "pygments_lexer": "ipython3",
   "version": "3.10.13"
  }
 },
 "nbformat": 4,
 "nbformat_minor": 4
}
