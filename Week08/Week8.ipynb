{
 "cells": [
  {
   "cell_type": "markdown",
   "metadata": {},
   "source": [
    "# Intro\n",
    "\n",
    "It's the last time we meet in class for exercises! And to celebrate this mile-stone, we've put together an amazing set of exercises. And if you're behind, don't worry. The workload is low!\n",
    "\n",
    "  - Part A: First, we play around with sentiment analysis\n",
    "  - Part B **(optional)**: We study paths in networks using a fun new dataset. (If only doing part A feels too easy for you, I've added a really fun exercise that should be fun and challenging.)\n",
    "\n",
    "But first, watch this video that touches upon your final project and Assignment 2 (which will be released later Wednesday),\n",
    "\n",
    "> [**Video**](https://www.dropbox.com/scl/fi/jh3490oqnqh4yl629ik09/ProjectAndAssigment.mp4?rlkey=2uyl7tq0xgzydl5u8pqzncf92&dl=0) about the Independent Project and Assignment 2"
   ]
  },
  {
   "cell_type": "markdown",
   "metadata": {},
   "source": [
    "# Part A: Sentiment analysis"
   ]
  },
  {
   "cell_type": "markdown",
   "metadata": {},
   "source": [
    "Sentiment analysis is another highly useful technique which we'll use to make sense of the Wiki\n",
    "data. Further, experience shows that it might well be very useful when you get to the project stage of the class."
   ]
  },
  {
   "cell_type": "markdown",
   "metadata": {},
   "source": [
    "\n",
    "> [**Video Lecture**](https://www.dropbox.com/scl/fi/u0rn767hg7e6ue4ryx41a/Sentiment.mp4?rlkey=4kwfqv6pkw1aijshm5zqe8ehh&dl=0): Sentiment and dictionary-based methods.\n",
    "\n"
   ]
  },
  {
   "cell_type": "code",
   "execution_count": 1,
   "metadata": {},
   "outputs": [
    {
     "data": {
      "image/jpeg": "[encoded data removed]",
      "text/html": [
       "\n",
       "        <iframe\n",
       "            width=\"800\"\n",
       "            height=\"450\"\n",
       "            src=\"https://www.youtube.com/embed/hY0UCD5UiiY\"\n",
       "            frameborder=\"0\"\n",
       "            allowfullscreen\n",
       "            \n",
       "        ></iframe>\n",
       "        "
      ],
      "text/plain": [
       "<IPython.lib.display.YouTubeVideo at 0x1f32485ded0>"
      ]
     },
     "execution_count": 1,
     "metadata": {},
     "output_type": "execute_result"
    }
   ],
   "source": [
    "# There's also this one from 2010 showing Sune Lehmann on national television\n",
    "from IPython.display import YouTubeVideo, HTML, display\n",
    "YouTubeVideo(\"hY0UCD5UiiY\",width=800, height=450)"
   ]
  },
  {
   "cell_type": "markdown",
   "metadata": {},
   "source": [
    "> Reading: [Temporal Patterns of Happiness and Information in a Global Social Network: Hedonometrics and Twitter](http://journals.plos.org/plosone/article?id=10.1371/journal.pone.0026752) \n"
   ]
  },
  {
   "cell_type": "markdown",
   "metadata": {},
   "source": [
    "_Exercise 1_: Sentiment distribution. \n",
    "> \n",
    "> * Download the LabMT wordlist. It's available as supplementary material from [Temporal Patterns of Happiness and Information in a Global Social Network: Hedonometrics and Twitter](http://journals.plos.org/plosone/article?id=10.1371/journal.pone.0026752) (Data Set S1). Describe briefly how the list was generated.\n",
    "> * Based on the LabMT word list, write a function that calculates sentiment given a list of tokens (the tokens should be lower case, etc).\n",
    "> * Iterate over the nodes in your network, tokenize each page, and calculate sentiment every single page. Now you have sentiment as a new nodal property. \n",
    "> * Remember histograms? Create a histogram of all character's associated page-sentiments. (And make it a nice histogram - use your histogram making skills from Week 2).\n",
    "> * Who are the 10 rappers with happiest and saddest pages?\n",
    "\n",
    "<!---\n",
    "> * Now we average the average sentiment of the nodes in each community to find a *community level sentiment*. \n",
    ">   - Name each community by its three most connected characters. \n",
    ">   - What are the three happiest communities? \n",
    ">   - what are the three saddest communities?\n",
    ">   - Do these results confirm what you can learn about each community by skimming the wikipedia pages?\n",
    "--->\n",
    "\n",
    "**Note**: Calculating sentiment takes a long time, so arm yourself with patience as your code runs (remember to check that it runs correctly, before waiting patiently). Further, these tips may speed things up. And save somewhere, so you don't have to start over.\n",
    "\n",
    "**Tips for speed**\n",
    "* If you use `freqDist` prior to finding the sentiment, you only have to find it for every unique word and hereafter you can do a weighted mean.\n",
    "* More tips for speeding up loops https://wiki.python.org/moin/PythonSpeed/PerformanceTips#Loops"
   ]
  },
  {
   "cell_type": "code",
   "execution_count": 3,
   "metadata": {},
   "outputs": [],
   "source": [
    "import pandas as pd\n",
    "import networkx as nx\n",
    "import os\n",
    "import requests\n",
    "import re\n",
    "import numpy as np\n",
    "import matplotlib.pyplot as plt\n",
    "import nltk\n",
    "import requests\n",
    "import community\n",
    "\n",
    "from nltk.corpus import PlaintextCorpusReader\n",
    "from nltk import word_tokenize\n",
    "from nltk import FreqDist\n",
    "from wordcloud import WordCloud, STOPWORDS"
   ]
  },
  {
   "cell_type": "code",
   "execution_count": 7,
   "metadata": {},
   "outputs": [],
   "source": [
    "corpus_root = '../files/rapper_texts'\n",
    "all_corpus = PlaintextCorpusReader(corpus_root, '.*')"
   ]
  },
  {
   "cell_type": "code",
   "execution_count": 22,
   "metadata": {},
   "outputs": [
    {
     "name": "stdout",
     "output_type": "stream",
     "text": [
      "Index(['word', 'happiness_rank', 'happiness_average',\n",
      "       'happiness_standard_deviation', 'twitter_rank', 'google_rank',\n",
      "       'nyt_rank', 'lyrics_rank'],\n",
      "      dtype='object')\n",
      "        word  happiness_rank  happiness_average  happiness_standard_deviation  \\\n",
      "0   laughter               1               8.50                        0.9313   \n",
      "1  happiness               2               8.44                        0.9723   \n",
      "2       love               3               8.42                        1.1082   \n",
      "3      happy               4               8.30                        0.9949   \n",
      "4    laughed               5               8.26                        1.1572   \n",
      "\n",
      "  twitter_rank google_rank nyt_rank lyrics_rank  \n",
      "0         3600          --       --        1728  \n",
      "1         1853        2458       --        1230  \n",
      "2           25         317      328          23  \n",
      "3           65        1372     1313         375  \n",
      "4         3334        3542       --        2332  \n"
     ]
    }
   ],
   "source": [
    "# read data_set_S1.txt into df\n",
    "df = pd.read_csv('data_set_S1.txt', sep='\\t')\n",
    "print(df.columns)\n",
    "print(df.head())"
   ]
  },
  {
   "cell_type": "code",
   "execution_count": 23,
   "metadata": {},
   "outputs": [],
   "source": [
    "dict_avg_happiness = {}\n",
    "for i in range(len(df)):\n",
    "    dict_avg_happiness[df['word'][i]] = df['happiness_average'][i]"
   ]
  },
  {
   "cell_type": "code",
   "execution_count": 24,
   "metadata": {},
   "outputs": [],
   "source": [
    "def get_happiness_score(text_list, dict_avg_happiness):\n",
    "    fdist = FreqDist(text_list)\n",
    "    sum_fdist = sum(fdist.values())\n",
    "    happiness_score = 0\n",
    "    for w in fdist:\n",
    "        if w in dict_avg_happiness:\n",
    "            happiness_score += dict_avg_happiness[w]\n",
    "    return happiness_score"
   ]
  },
  {
   "cell_type": "code",
   "execution_count": 31,
   "metadata": {},
   "outputs": [
    {
     "name": "stdout",
     "output_type": "stream",
     "text": [
      "{\"Shaquille_O'Neal.txt\": 10080.559999999987, 'Dr._Dre.txt': 9501.74999999999, '50_Cent.txt': 9494.47, 'Snoop_Dogg.txt': 9169.620000000003, 'Kendrick_Lamar.txt': 8547.809999999992, 'Jay_Z.txt': 8544.949999999997, 'Tupac_Shakur.txt': 8379.970000000016, 'John_Cena.txt': 8136.610000000009, \"Lil'_Kim.txt\": 7935.279999999993, 'Cardi_B.txt': 7657.289999999993, 'Nas.txt': 7636.189999999993, 'Ice_T.txt': 6824.960000000001, 'The_Notorious_B.I.G..txt': 6804.139999999995, 'The_Game_(rapper).txt': 6671.180000000006, 'Lil_Peep.txt': 6545.429999999998, 'Jay_Park.txt': 6472.089999999996, 'Will_Smith.txt': 6241.040000000011, 'Meek_Mill.txt': 6155.639999999998, '6ix9ine.txt': 6059.520000000002, 'French_Montana.txt': 5828.209999999998, 'MC_Lyte.txt': 5721.749999999996, 'DMX.txt': 5689.87, 'Sean_Combs.txt': 5646.53, 'RZA.txt': 5446.110000000002, 'Tyler,_the_Creator.txt': 5335.449999999999, 'Ja_Rule.txt': 5300.810000000005, 'Queen_Latifah.txt': 5287.600000000002, 'Mike_Shinoda.txt': 5187.709999999996, 'Mos_Def.txt': 5178.829999999999, 'Azealia_Banks.txt': 5173.619999999998, 'Becky_G.txt': 5149.210000000002, 'Lecrae.txt': 5072.059999999995, 'Shyne.txt': 5017.529999999998, 'Nipsey_Hussle.txt': 5005.680000000001, 'Method_Man.txt': 4913.690000000006, 'Ice_Cube.txt': 4894.969999999998, 'Busta_Rhymes.txt': 4879.949999999998, 'Pusha_T.txt': 4797.130000000001, 'KRS_One.txt': 4694.999999999996, 'Talib_Kweli.txt': 4635.259999999998, 'Charles_Hamilton_(rapper).txt': 4610.439999999997, 'ASAP_Rocky.txt': 4598.619999999994, 'MF_Doom.txt': 4596.020000000004, 'Swizz_Beatz.txt': 4533.250000000007, 'Rakim.txt': 4488.800000000004, 'Lil_Mama.txt': 4392.029999999994, 'Jill_Scott_(singer).txt': 4390.960000000003, 'Jan_Lucanus.txt': 4359.029999999999, 'Danny_Boy_(rapper).txt': 4320.920000000005, 'Fat_Joe.txt': 4276.109999999994, 'Foxy_Brown_(rapper).txt': 4238.449999999995, \"Cam'ron.txt\": 4204.699999999994, 'Afrika_Bambaataa.txt': 4202.700000000002, 'Q_Tip_(musician).txt': 4184.350000000002, 'Remy_Ma.txt': 4099.690000000003, 'Jipsta.txt': 4090.6199999999944, 'Mac_Miller.txt': 4011.7500000000023, 'Nick_Cannon.txt': 3964.789999999998, 'Eve_(rapper).txt': 3862.9600000000023, 'Wiz_Khalifa.txt': 3856.3199999999983, 'Necro_(rapper).txt': 3841.5199999999995, 'Canibus.txt': 3837.619999999996, 'DJ_Dahi.txt': 3821.5300000000007, 'Shock_G.txt': 3819.6500000000024, 'Pop_Smoke.txt': 3805.150000000001, 'Darryl_McDaniels.txt': 3755.6600000000026, 'Hopsin.txt': 3744.5199999999954, 'E_40.txt': 3726.329999999999, 'Schoolboy_Q.txt': 3653.189999999995, 'Jadakiss.txt': 3640.96, 'Earl_Sweatshirt.txt': 3604.949999999995, 'DJ_Quik.txt': 3562.2300000000005, \"Ol'_Dirty_Bastard.txt\": 3556.1499999999937, 'Mr._J._Medeiros.txt': 3553.9699999999953, 'Xzibit.txt': 3527.7000000000035, 'Aesop_Rock.txt': 3517.25, 'Prince_Paul_(producer).txt': 3515.9000000000037, 'Danger_Mouse_(musician).txt': 3511.1200000000017, 'Lloyd_Banks.txt': 3496.8399999999965, 'Biz_Markie.txt': 3443.0100000000025, 'MC_Jin.txt': 3440.110000000005, 'Ab_Soul.txt': 3433.979999999997, 'Doug_E._Fresh.txt': 3424.6099999999988, 'Warren_G.txt': 3424.579999999999, 'Lil_B.txt': 3423.16, 'Kevin_Federline.txt': 3415.109999999999, 'Getter_(DJ).txt': 3390.1600000000017, 'Lil_Mosey.txt': 3387.99, 'Ty_Dolla_Sign.txt': 3383.789999999999, 'Grandmaster_Flash.txt': 3380.560000000003, 'Ghostface_Killah.txt': 3377.1800000000026, 'Fabolous.txt': 3355.719999999999, 'Crooked_I.txt': 3343.3199999999965, 'Big_L.txt': 3341.699999999998, 'Mase.txt': 3316.520000000001, 'Eazy_E.txt': 3311.2100000000005, 'Redman_(rapper).txt': 3304.32, 'Macklemore.txt': 3296.2800000000034, 'Coolio.txt': 3290.1899999999982, 'Joey_Badass.txt': 3213.639999999996, 'Pete_Rock.txt': 3206.2200000000003, 'Slaine_(rapper).txt': 3204.3099999999995, 'Tierra_Whack.txt': 3181.9700000000007, \"Tim'm_T._West.txt\": 3167.3599999999983, 'Prodigy_(rapper).txt': 3127.160000000001, 'Andy_Mineo.txt': 3089.7899999999995, 'Saul_Williams.txt': 3084.8500000000035, 'Boots_Riley.txt': 3083.840000000001, 'Teyana_Taylor.txt': 3078.589999999997, 'Del_the_Funky_Homosapien.txt': 3045.1999999999944, 'The_Alchemist_(musician).txt': 3022.450000000003, 'Joyner_Lucas.txt': 3014.060000000003, 'Nissim_Black.txt': 2996.63, 'Paris_(rapper).txt': 2980.940000000001, 'Aloe_Blacc.txt': 2967.4400000000037, 'Young_M.A.txt': 2944.54, 'YG_(rapper).txt': 2930.1199999999994, 'Joe_Budden.txt': 2928.619999999998, 'Awkwafina.txt': 2912.31, 'Big_Daddy_Kane.txt': 2907.4999999999973, 'Hoodie_Allen.txt': 2897.6099999999983, 'Flying_Lotus.txt': 2836.119999999999, 'Mark_Batson.txt': 2830.120000000001, 'Ras_Kass.txt': 2804.169999999999, 'Nichkhun.txt': 2796.6399999999985, 'Jaz_O.txt': 2786.1499999999987, 'M_Dot.txt': 2781.24, 'Sir_Mix_a_Lot.txt': 2765.2200000000007, 'Mistah_F.A.B..txt': 2728.2499999999995, 'Action_Bronson.txt': 2723.559999999997, 'Kool_G_Rap.txt': 2723.519999999997, 'Dave_East.txt': 2707.7000000000003, 'Black_Thought.txt': 2702.5200000000004, 'MF_Grimm.txt': 2688.29, 'Beanie_Sigel.txt': 2685.529999999998, 'GZA.txt': 2682.320000000002, 'DJ_Premier.txt': 2671.8999999999987, 'Melle_Mel.txt': 2665.28, 'Kurupt.txt': 2665.2399999999993, 'Tony_Yayo.txt': 2664.7800000000016, 'Fetty_Wap.txt': 2658.949999999996, 'Dom_Kennedy.txt': 2639.2899999999986, 'Vince_Staples.txt': 2632.650000000002, 'Jahlil_Beats.txt': 2630.22, 'JHawk.txt': 2621.94, 'Noa_James.txt': 2617.3099999999986, 'Harry_Fraud.txt': 2613.4299999999994, 'Funkmaster_Flex.txt': 2611.5, 'Brother_Marquis.txt': 2610.7000000000003, 'Lil_Dicky.txt': 2596.1900000000005, 'Skeme.txt': 2585.600000000001, 'Large_Professor.txt': 2555.22, 'Snow_Tha_Product.txt': 2552.2599999999998, 'El_P.txt': 2549.6899999999973, 'Myka_9.txt': 2543.98, 'The_Real_Richie_Rich.txt': 2543.9399999999987, 'Asher_Roth.txt': 2537.920000000002, 'Taboo_(rapper).txt': 2533.3800000000024, 'Alex_Skolnick.txt': 2529.910000000001, 'Chyskillz.txt': 2510.970000000002, 'Esoteric_(rapper).txt': 2500.1300000000006, 'Fashawn.txt': 2492.89, 'Kreayshawn.txt': 2487.910000000001, 'Adeem_(rapper).txt': 2480.979999999999, 'Blueface.txt': 2477.84, 'Phresher.txt': 2477.779999999998, 'The_D.O.C..txt': 2471.7000000000007, 'Lil_Tjay.txt': 2459.099999999999, 'Bones_(rapper).txt': 2449.7700000000004, 'Cage_(rapper).txt': 2444.5299999999993, 'Nate_Dogg.txt': 2440.909999999999, 'Juelz_Santana.txt': 2425.5299999999997, 'Cordae.txt': 2387.95, 'ASAP_Ferg.txt': 2387.6499999999983, 'Teddy_Park.txt': 2373.300000000001, 'JPEGMafia.txt': 2356.4800000000005, 'Jam_Master_Jay.txt': 2354.680000000001, 'N.O.R.E..txt': 2352.009999999999, 'Madlib.txt': 2348.3599999999997, 'AraabMuzik.txt': 2345.9700000000003, 'Silkski.txt': 2334.040000000001, 'Mathematics_(producer).txt': 2333.4199999999983, 'Saweetie.txt': 2327.86, 'Princess_Superstar.txt': 2310.389999999998, 'MC_Frontalot.txt': 2309.9799999999996, 'Bobby_Shmurda.txt': 2306.3300000000004, 'ILoveMakonnen.txt': 2285.43, 'Capital_Steez.txt': 2280.5, 'DJ_Drama.txt': 2277.91, 'Saigon_(rapper).txt': 2261.8100000000004, 'Yeat.txt': 2258.34, 'RiceGum.txt': 2249.18, 'Afroman.txt': 2247.5099999999984, 'DJ_Whoo_Kid.txt': 2217.279999999997, 'Cardiak.txt': 2216.860000000001, 'MC_Lars.txt': 2211.789999999999, 'Pharoahe_Monch.txt': 2204.429999999999, 'Redfoo.txt': 2202.39, 'Oh_No_(musician).txt': 2201.3599999999983, 'Focus....txt': 2198.6899999999996, 'Too_Short.txt': 2198.17, 'Chinx.txt': 2192.5199999999986, 'B_Real.txt': 2181.77, 'Chris_Webby.txt': 2172.7799999999993, 'Busdriver.txt': 2172.4199999999996, 'Hit_Boy.txt': 2162.140000000001, 'The_45_King.txt': 2159.4599999999996, 'Sammy_Adams.txt': 2151.0000000000005, 'Guru_(rapper).txt': 2149.4, 'Amber_Liu_(singer).txt': 2149.3099999999995, 'MC_Eiht.txt': 2139.670000000001, 'Hell_Razah.txt': 2138.1099999999997, 'Berner_(rapper).txt': 2121.130000000001, 'Cassidy_(rapper).txt': 2115.29, 'Styles_P.txt': 2113.8100000000013, 'Inspectah_Deck.txt': 2095.3499999999985, 'Big_Pun.txt': 2086.04, 'Ice_Spice.txt': 2082.7900000000004, 'Fresh_Kid_Ice.txt': 2076.82, 'Tim_Dog.txt': 2075.849999999999, 'Kemba_(rapper).txt': 2068.790000000001, 'Mac_Dre.txt': 2068.530000000001, 'No_Malice.txt': 2063.5000000000005, 'Shwayze.txt': 2049.3100000000013, 'Kossisko.txt': 2047.5599999999993, 'Dizzy_Wright.txt': 2044.9199999999983, 'TeeFlii.txt': 2041.7000000000005, 'AR_Ab.txt': 2038.6400000000017, '40_Glocc.txt': 2038.4500000000003, 'V_Nasty.txt': 2026.4200000000005, 'Mix_Master_Mike.txt': 2023.9000000000003, 'Apathy_(rapper).txt': 2019.61, 'Souleye_(hip_hop_artist).txt': 2012.1499999999996, 'Heavy_D.txt': 2010.8499999999992, 'Ant_Banks.txt': 2007.42, 'Pras.txt': 2007.2700000000011, 'Mickey_Factz.txt': 2006.1799999999994, 'Mr._Mixx.txt': 2003.5700000000004, 'Quazedelic.txt': 1999.1300000000008, 'Chevy_Woods.txt': 1998.3199999999995, 'Megahertz_(record_producer).txt': 1992.0199999999993, 'Kosha_Dillz.txt': 1987.0700000000008, 'Kool_Moe_Dee.txt': 1984.8899999999992, 'Buckwild_(music_producer).txt': 1980.1600000000005, 'David_Stones.txt': 1978.9399999999991, 'Only_Won.txt': 1974.4099999999994, 'Shawn_Chrystopher.txt': 1962.7799999999982, 'Jamie_Kennedy.txt': 1953.3300000000006, 'J57_(rapper).txt': 1944.07, 'Red_Cloud_(rapper).txt': 1942.4900000000016, 'Bizzle.txt': 1941.6100000000004, 'M._K._Asante.txt': 1940.83, 'Billy_Drease_Williams.txt': 1934.3999999999987, 'Eli_Meltzer.txt': 1934.2099999999998, 'Amanda_Seales.txt': 1927.6200000000003, 'Rashad_Smith_(producer).txt': 1925.6000000000006, 'AZ_(rapper).txt': 1916.0599999999997, 'Dot_da_Genius.txt': 1911.4299999999985, 'Dame_Grease.txt': 1909.6099999999994, 'Trip_Lee.txt': 1907.7199999999998, 'Jean_Grae.txt': 1903.509999999999, 'G_Koop.txt': 1896.0800000000004, 'Desiigner.txt': 1895.97, 'DVLP.txt': 1891.7700000000004, 'Droop_E.txt': 1885.3000000000009, 'Kellee_Maize.txt': 1884.68, 'Sage_Francis.txt': 1880.49, 'Tone_Loc.txt': 1875.6, 'Mims_(rapper).txt': 1872.669999999999, 'Sounwave.txt': 1866.85, 'Terrace_Martin.txt': 1862.1400000000003, 'Trevor_McFedries.txt': 1858.0700000000004, 'Frenchie_(rapper).txt': 1857.2599999999989, 'Phife_Dawg.txt': 1851.1400000000006, 'Mikey_D.txt': 1848.6900000000005, '03_Greedo.txt': 1840.9500000000005, 'O.C._(rapper).txt': 1838.7200000000007, 'Grandmaster_Caz.txt': 1833.55, 'Tiger_JK.txt': 1824.1900000000003, 'Young_Maylay.txt': 1822.4700000000003, 'Blockhead_(music_producer).txt': 1815.8800000000015, 'Freddie_Foxxx.txt': 1808.56, 'Clyde_Carson.txt': 1805.25, 'Memphis_Bleek.txt': 1802.0900000000017, 'Spank_Rock.txt': 1799.63, 'Pepa_(rapper).txt': 1799.2999999999995, 'Evidence_(musician).txt': 1796.6100000000001, 'Token_(rapper).txt': 1795.3700000000008, 'Jay_Rock.txt': 1793.1300000000012, 'Sir_Jinx.txt': 1791.2599999999998, 'Locksmith_(rapper).txt': 1789.3700000000001, 'Aminé_(rapper).txt': 1776.66, 'Kid_Ink.txt': 1775.6099999999994, 'Gift_of_Gab_(rapper).txt': 1773.2, 'Princess_Nokia.txt': 1771.0499999999986, 'Chanel_West_Coast.txt': 1764.2799999999995, 'Drakeo_the_Ruler.txt': 1762.4799999999996, 'Marley_Marl.txt': 1759.9900000000002, 'Statik_Selektah.txt': 1759.5399999999993, 'Junglepussy.txt': 1756.4899999999984, 'Ed_O.G..txt': 1756.1000000000008, 'B._Dolan.txt': 1754.070000000001, 'Ill_Bill.txt': 1749.4, 'Eprhyme.txt': 1747.410000000001, 'Schoolly_D.txt': 1746.7299999999996, 'Lil_Xan.txt': 1740.520000000001, 'Bronx_Style_Bob.txt': 1739.3200000000002, 'Coke_La_Rock.txt': 1728.0300000000013, 'Don_Q_(rapper).txt': 1712.3100000000004, 'Masta_Killa.txt': 1706.3400000000004, 'Luni_Coleone.txt': 1702.47, 'Aone_Beats.txt': 1696.4, 'Curtiss_King.txt': 1685.8200000000008, 'King_T.txt': 1675.019999999999, 'Big_Shug.txt': 1673.9299999999994, 'Tate_Kobang.txt': 1671.559999999999, 'J.I_the_Prince_of_N.Y.txt': 1660.7199999999998, 'Joell_Ortiz.txt': 1657.7199999999996, 'Havoc_(musician).txt': 1654.870000000001, '88_Keys.txt': 1648.2799999999984, 'Spider_Loc.txt': 1643.6900000000005, 'Braille_(musician).txt': 1643.34, 'Young_Chris.txt': 1637.6999999999996, 'Myzery.txt': 1637.6600000000003, 'Thurz.txt': 1630.06, 'Irv_Gotti.txt': 1625.3599999999997, 'Shorty_(American_rapper).txt': 1622.9500000000014, 'Eyenine.txt': 1620.93, 'NOE_(rapper).txt': 1619.9700000000005, 'Craig_Mack.txt': 1617.0700000000002, 'Felicia_Pearson.txt': 1614.5700000000008, 'Coi_Leray.txt': 1611.880000000001, 'Sky_Blu_(rapper).txt': 1611.2499999999998, 'Serius_Jones.txt': 1611.1800000000012, 'B_Legit.txt': 1610.2500000000007, 'DJ_Logic.txt': 1599.2400000000007, 'Mike_Stud.txt': 1595.0800000000002, 'Abstract_Rude.txt': 1584.2499999999989, 'Knero_Lapaé.txt': 1581.369999999999, 'Keith_Murray.txt': 1578.5300000000009, 'Samuel_T._Herring.txt': 1575.2099999999994, 'Call_Me_Ace.txt': 1571.5600000000013, 'Chilla_Jones.txt': 1567.480000000001, 'Al_Sherrod_Lambert.txt': 1567.0000000000002, 'JT_the_Bigga_Figga.txt': 1566.9600000000007, 'Termanology.txt': 1566.3799999999999, 'Sheck_Wes.txt': 1565.9600000000007, 'Futuristic_(rapper).txt': 1565.4100000000003, 'Ash_Riser.txt': 1564.9200000000012, 'Emile_Haynie.txt': 1564.2699999999993, 'ZillaKami.txt': 1558.4000000000012, 'Moshe_Reuven.txt': 1557.5299999999988, 'Joey_Fatts.txt': 1548.3499999999988, 'Daddy_O_(rapper).txt': 1546.8099999999997, 'Ed_Lover.txt': 1538.2200000000003, 'Dumbfoundead.txt': 1536.5000000000007, 'Fatlip.txt': 1536.4999999999993, 'Sway_Calloway.txt': 1531.1700000000008, 'Arkatech_Beatz.txt': 1530.3999999999999, 'Benny_the_Butcher.txt': 1528.3099999999995, 'Iamsu!.txt': 1527.9700000000007, 'Messy_Marv.txt': 1527.1200000000003, '24kGoldn.txt': 1521.5800000000006, 'Eric_B..txt': 1519.5600000000002, 'Cut_Chemist.txt': 1509.5299999999995, 'Cazwell.txt': 1508.82, 'Shade_Sheist.txt': 1506.2599999999995, 'Easy_Mo_Bee.txt': 1503.14, 'Knxwledge.txt': 1503.08, 'Ceschi.txt': 1502.61, 'Mr._Lif.txt': 1502.4999999999993, 'Beefy_(rapper).txt': 1501.490000000001, 'Daz_Dillinger.txt': 1496.270000000001, 'E.D.I._Mean.txt': 1494.2699999999998, 'Buckshot_(rapper).txt': 1492.6999999999996, 'Kokane.txt': 1490.0299999999993, 'Yo_Yo_(rapper).txt': 1486.449999999999, 'Stelios_Phili.txt': 1481.2900000000009, 'Jonathan_Moore_(musician).txt': 1480.560000000001, 'Nocando.txt': 1476.7999999999997, 'Spose.txt': 1472.6799999999992, 'Baby_Keem.txt': 1470.8199999999995, 'Don_Cannon.txt': 1469.7600000000002, 'Black_Rob.txt': 1467.7200000000007, 'U_God.txt': 1467.1199999999992, 'Syd_(singer).txt': 1464.0500000000002, 'J_Peezy.txt': 1462.5100000000007, 'Beedie_(rapper).txt': 1461.1599999999999, 'Sheff_G.txt': 1459.1199999999997, 'Sha_Money_XL.txt': 1458.3099999999993, 'Nobody_(producer).txt': 1458.110000000001, 'DJ_King_Assassin.txt': 1455.6199999999992, 'Lil_Skies.txt': 1455.3600000000004, 'Scott_Caan.txt': 1454.06, 'Ex_plicit_linez.txt': 1450.6099999999994, 'Chad_Hugo.txt': 1447.2099999999987, 'Sho_Baraka.txt': 1445.6700000000003, 'Smoke_DZA.txt': 1441.0000000000002, 'Nosson_Zand.txt': 1437.990000000001, 'Louis_Logic.txt': 1436.2999999999995, 'Kid_Capri.txt': 1427.2400000000011, 'ASAP_Nast.txt': 1424.31, 'CL_Smooth.txt': 1420.0000000000007, 'Elle_Royal.txt': 1407.6499999999994, 'DJ_Kay_Slay.txt': 1407.6100000000013, 'Chubb_Rock.txt': 1405.63, 'Ivan_Matias.txt': 1404.3799999999994, 'Wise_(musician).txt': 1398.3400000000006, 'Problem_(rapper).txt': 1394.6699999999998, 'Jay_Critch.txt': 1389.810000000001, 'D_Nice.txt': 1381.460000000002, 'Frost_(rapper).txt': 1381.3099999999997, 'Fivio_Foreign.txt': 1380.5400000000004, 'DJ_Skee.txt': 1377.8400000000004, 'Andre_Harrell.txt': 1376.9699999999998, 'DJ_Scratch.txt': 1375.8899999999992, 'Glasses_Malone.txt': 1375.5000000000016, 'Tanna_Leone.txt': 1372.8699999999994, 'DJ_Charlie_Chase.txt': 1371.3300000000015, 'Jel_(music_producer).txt': 1369.5299999999995, 'Kyle_Rapps.txt': 1368.01, 'Timothy_DeLaGhetto.txt': 1361.6400000000006, 'Show_Banga.txt': 1361.41, 'Murs_(rapper).txt': 1360.4300000000003, 'Mr._Capone_E.txt': 1359.4900000000002, 'Brotha_Lynch_Hung.txt': 1359.2799999999995, 'DJ_Babu.txt': 1357.0299999999997, 'Suga_Free.txt': 1349.3500000000004, 'Alias_(musician).txt': 1348.709999999999, 'Kiing_Shooter.txt': 1348.6300000000008, \"Ak'Sent.txt\": 1347.8199999999993, 'Kyle_(musician).txt': 1346.8999999999999, 'Skee_Lo.txt': 1344.6400000000006, 'Mac_Mall.txt': 1342.020000000001, 'Sole_(hip_hop_artist).txt': 1340.18, 'Emcee_N.I.C.E..txt': 1339.4299999999998, 'Adam_Hicks.txt': 1339.370000000001, 'Antwon.txt': 1331.8499999999997, 'Benzino.txt': 1328.2, 'Buddy_(rapper).txt': 1324.7699999999998, 'Raz_Simone.txt': 1323.3000000000004, 'Big_Dave_(rapper).txt': 1322.54, 'Queen_Pen.txt': 1309.9499999999998, 'Petey_Pablo.txt': 1307.2300000000005, 'Zealous1.txt': 1304.4500000000003, 'Siya.txt': 1299.7999999999995, 'Tairrie_B.txt': 1298.99, 'Tyler_James_Williams.txt': 1298.49, 'Sadat_X.txt': 1298.13, 'Westside_Gunn.txt': 1297.729999999999, 'Time_(rapper).txt': 1293.950000000001, 'Pumpkinhead_(rapper).txt': 1293.6600000000003, 'Flipp_Dinero.txt': 1291.4100000000012, 'Erick_Sermon.txt': 1291.3200000000002, 'Domo_Genesis.txt': 1289.42, 'Salaam_Remi.txt': 1286.1400000000008, 'Keak_da_Sneak.txt': 1285.430000000001, 'Peace_(rapper).txt': 1278.94, 'Sonaro.txt': 1278.7000000000003, 'Black_Child.txt': 1275.89, 'Aceyalone.txt': 1273.9199999999996, 'DJ_Hurricane.txt': 1273.2700000000007, 'Capella_Grey.txt': 1263.250000000001, 'CJ_Fly.txt': 1262.830000000001, 'Casey_Veggies.txt': 1256.8200000000004, 'Casanova_(rapper).txt': 1256.5900000000006, 'Hobo_Johnson.txt': 1254.6099999999997, 'Felly.txt': 1254.210000000001, 'Bishop_Lamont.txt': 1249.74, \"Rappin'_4_Tay.txt\": 1249.6999999999998, 'Mitchy_Slick.txt': 1249.57, 'Skhye_Hutch.txt': 1247.8600000000004, 'The_Beat_Bully.txt': 1244.5100000000004, 'Sleep_(rapper).txt': 1244.3, 'Ms._Toi.txt': 1244.2000000000003, 'Heather_B._Gardner.txt': 1236.3500000000004, 'Skinnyfromthe9.txt': 1230.4400000000003, 'San_Quinn.txt': 1229.7799999999997, 'Uncle_Murda.txt': 1227.000000000001, 'Dub_L.txt': 1222.47, 'Willie_B_(producer).txt': 1221.48, 'Mach_Hommy.txt': 1219.9400000000003, 'MC_Paul_Barman.txt': 1217.22, 'Le1f.txt': 1216.1000000000001, 'Cool_C.txt': 1215.6100000000006, 'DJ_Fresh_(American_DJ).txt': 1215.499999999999, 'Spoonie_Gee.txt': 1215.4700000000003, 'Salt_(rapper).txt': 1210.6800000000005, 'Younglord.txt': 1210.6399999999996, 'O.Y.G_Redrum_781.txt': 1206.8100000000002, 'Akir.txt': 1205.3300000000006, 'V._Rose.txt': 1205.1900000000007, 'Ty_Fyffe.txt': 1204.7599999999995, 'Turbo_B.txt': 1201.9800000000005, 'Yhaunai_Takiyal.txt': 1200.8700000000003, 'Neo_da_Matrix.txt': 1200.6699999999998, 'RBX.txt': 1192.8899999999994, 'Jae_Millz.txt': 1189.2299999999998, 'Justina_Valentine.txt': 1187.5300000000002, 'Akrobatik.txt': 1187.24, 'Asheru.txt': 1184.1000000000008, 'Grieves.txt': 1184.0000000000002, 'Jeff_Jericho.txt': 1178.5099999999998, 'Street_Life_(rapper).txt': 1173.8999999999996, 'Lee_on_the_Beats.txt': 1173.840000000001, 'Mike_Jaggerr.txt': 1173.2500000000005, 'Aztlan_Underground.txt': 1158.6899999999994, 'Bryce_Vine.txt': 1147.8799999999999, 'Percee_P.txt': 1145.1699999999994, 'Lil_Debbie.txt': 1142.6300000000003, 'DJ_Disco_Wiz.txt': 1140.6500000000005, 'Charli_Baltimore.txt': 1130.06, 'Bishop_Nehru.txt': 1124.2800000000002, 'Dai_Burger.txt': 1122.01, 'Consequence_(rapper).txt': 1120.7100000000005, 'Thee_Phantom.txt': 1117.3799999999999, 'Soopafly.txt': 1117.3300000000004, 'Jimmy_Wopo.txt': 1117.0600000000004, 'Treach.txt': 1116.1100000000008, 'The_Futuristics.txt': 1114.5499999999997, 'Conway_the_Machine.txt': 1113.57, 'Kangol_Kid.txt': 1111.39, 'Nappy_Nina.txt': 1111.1499999999996, 'Demrick.txt': 1102.1200000000003, 'Smooth_(singer).txt': 1100.6299999999999, 'Roshon_Fegan.txt': 1097.4000000000005, 'ASAP_Twelvyy.txt': 1093.0000000000007, 'Mike_D.txt': 1092.9399999999998, 'Vinylz.txt': 1091.8499999999997, 'Dave_Free.txt': 1090.2300000000007, 'Hot_Rod_(rapper).txt': 1088.5900000000006, 'Skinhead_Rob.txt': 1088.0699999999997, 'Jasiri_X.txt': 1082.8400000000004, 'Black_Pegasus.txt': 1075.7400000000005, 'Jonathan_Shecter.txt': 1069.42, 'Cappadonna.txt': 1067.480000000001, 'Dudley_Perkins_(rapper).txt': 1066.8900000000003, 'Tha_Chill.txt': 1066.6100000000006, 'Scott_La_Rock.txt': 1066.41, 'Ali_Vegas.txt': 1062.1, 'Johan_Lenox.txt': 1059.2400000000002, \"Mr._Muthafuckin'_eXquire.txt\": 1058.4599999999998, 'Lil_Rob.txt': 1054.99, 'Yukmouth.txt': 1053.7300000000005, 'WC_(rapper).txt': 1053.1500000000003, 'Slimkid3.txt': 1050.5900000000001, 'Lady_May_(rapper).txt': 1045.2, 'Ohmega_Watts.txt': 1042.08, 'Sleepy_Hallow.txt': 1040.7099999999998, 'Asaiah_Ziv.txt': 1036.1399999999996, 'China_Mac.txt': 1032.62, 'Cuban_Link.txt': 1028.9000000000003, 'Reks.txt': 1026.71, 'Dash_(rapper).txt': 1026.38, 'Cory_Gunz.txt': 1020.0800000000002, 'Blxst.txt': 1019.7399999999997, 'King_Tech.txt': 1019.0700000000008, 'Amil.txt': 1018.0099999999998, 'Lefty_(rapper).txt': 1012.8700000000001, 'Arif_Zahir.txt': 1011.1800000000001, 'Sabor_Latino.txt': 1009.5899999999998, 'Roc_Marciano.txt': 1006.9000000000002, 'Kastro_(rapper).txt': 1006.0399999999998, 'Dusty_Locane.txt': 1005.5300000000004, 'Ron_Browz.txt': 1003.4200000000002, 'Parlay_Starr.txt': 998.5499999999996, 'Kam_(rapper).txt': 993.9700000000006, 'Shady_Nate.txt': 991.4099999999997, 'Roscoe_(rapper).txt': 990.8599999999999, 'Sage_the_Gemini.txt': 990.1800000000003, 'Nicholas_Loftin.txt': 989.0900000000001, 'Mack_10.txt': 986.4699999999999, 'Ahmad_(rapper).txt': 983.19, 'Dutch_ReBelle.txt': 982.5000000000001, 'D_Loc.txt': 982.35, 'DJ_Chuck_Chillout.txt': 980.8000000000003, 'Sean_Price.txt': 980.5799999999996, 'Vado_(rapper).txt': 980.3700000000002, 'Freekey_Zekey.txt': 977.3100000000002, 'Godfather_Don.txt': 973.56, 'Bkorn.txt': 971.3900000000006, 'Lin_Que.txt': 966.6199999999998, 'DJ_Cheapshot.txt': 965.4499999999998, 'Lil_Tecca.txt': 965.26, 'Ali_Tabatabaee.txt': 964.9000000000001, 'Alrad_Lewis.txt': 964.1600000000001, 'The_Audible_Doctor.txt': 963.8799999999999, 'Spice_1.txt': 962.3100000000003, 'Diabolic_(rapper).txt': 959.1500000000001, 'Big_B_(rapper).txt': 958.2600000000003, 'Tone_Trump.txt': 957.0300000000003, 'McGruff_(rapper).txt': 955.4100000000005, 'Busy_Bee_Starski.txt': 952.6199999999995, 'Disco_King_Mario.txt': 950.3599999999996, 'DJ_A_Tron.txt': 949.6699999999997, 'Rah_Swish.txt': 948.7500000000001, 'Cousin_Stizz.txt': 944.4200000000003, 'Mike_Free.txt': 943.6700000000003, 'Prolyphic.txt': 938.3199999999997, 'Toni_Blackman.txt': 937.73, 'GaTa.txt': 935.28, 'Derrick_Milano.txt': 932.4400000000003, 'Hodgy.txt': 932.2899999999998, \"Lil'_Fizz.txt\": 928.6399999999998, 'Special_K_(rapper).txt': 925.5400000000001, 'The_Unknown_DJ.txt': 925.4000000000007, 'Rockwilder.txt': 925.3700000000002, 'Iame_(rapper).txt': 921.8000000000006, 'Red_Café.txt': 920.9800000000004, 'Saga_(rapper).txt': 919.6, 'Young_Music_DYMG.txt': 913.2300000000004, 'Sensational_(musician).txt': 913.1700000000001, 'Cozz.txt': 913.0800000000002, 'Sheek_Louch.txt': 906.3800000000001, 'Lady_B.txt': 903.4199999999996, 'KC_Montero.txt': 901.4200000000004, 'Playalitical.txt': 900.3399999999993, 'Self_Jupiter.txt': 893.6300000000006, 'Fred_the_Godson.txt': 891.8900000000002, 'Wordsworth_(rapper).txt': 891.6700000000001, 'Ka$hdami.txt': 889.6, 'Sauce_Money.txt': 885.2600000000006, 'DJ_Stretch_Armstrong.txt': 884.4299999999998, 'The_Jacka.txt': 879.84, 'Slim_the_Mobster.txt': 876.6800000000002, 'Scar_Lip.txt': 875.4000000000002, 'Sadistik.txt': 874.2999999999997, '22Gz.txt': 872.3400000000004, 'Reason_(American_rapper).txt': 872.1399999999999, 'Tedashii.txt': 871.73, 'YGD_Tha_Top_Dogg.txt': 863.13, 'D_Smoke.txt': 861.8599999999998, 'Cymphonique_Miller.txt': 858.98, 'MC_Yogi.txt': 854.3499999999998, 'Damani_Nkosi.txt': 852.5100000000001, 'Marty_Baller.txt': 851.5700000000003, 'Knightowl.txt': 845.0400000000003, 'Cool_Nutz.txt': 840.5599999999997, 'Houston_(singer).txt': 839.91, 'Judge_Da_Boss.txt': 833.8799999999999, 'Hussein_Fatal.txt': 828.7199999999999, 'Jake_One.txt': 818.9999999999997, 'Sam_Sneed.txt': 817.7000000000002, '38_Spesh.txt': 816.5599999999998, 'Dazzie_Dee.txt': 814.3300000000005, 'Domino_(rapper).txt': 808.96, \"Lil'_Cease.txt\": 804.8400000000006, 'Tommy_Brown_(record_producer).txt': 803.4200000000003, 'Suga_T.txt': 800.5299999999996, 'Isaiah_Toothtaker.txt': 795.07, 'Grafh.txt': 792.1099999999999, 'Slip_Capone.txt': 789.2799999999999, 'Slow_Pain.txt': 787.9999999999997, 'Crystal_Caines.txt': 786.6500000000001, 'Jamal_Phillips.txt': 779.45, 'MC_Trouble.txt': 778.9100000000001, 'Mike_Zombie.txt': 775.2600000000006, 'Tha_Trademarc.txt': 774.6900000000005, 'Ya_Boy.txt': 772.9900000000001, 'O.T._Genasis.txt': 760.8999999999995, 'DJ_Jazzy_Joyce.txt': 748.5000000000001, 'Nine_(rapper).txt': 746.7800000000002, 'Dom_Sicily.txt': 745.5600000000001, 'Clams_Casino_(musician).txt': 743.07, 'Oryn_the_Rebel.txt': 741.0000000000001, 'Radamiz.txt': 738.3899999999996, 'Lamiere.txt': 734.58, 'Big_Ed_(rapper).txt': 731.7799999999995, 'Sensato_del_Patio.txt': 730.5699999999999, 'Punch_(rapper).txt': 719.4599999999999, 'Big_Body_Bes.txt': 718.4800000000004, 'Ali_Shaheed_Muhammad.txt': 710.35, '9th_Prince.txt': 708.5100000000001, 'Channel_Tres.txt': 707.7600000000002, 'Young_Noble.txt': 707.4600000000002, 'Lady_Crush.txt': 705.4600000000004, 'DJ_Khalil.txt': 695.7799999999999, 'Hell_Rell.txt': 690.3700000000001, 'Q_Da_Fool.txt': 689.3400000000001, 'David_Rush_(rapper).txt': 685.41, 'Malik_B..txt': 669.7200000000004, 'Like_(record_producer).txt': 662.08, \"Haiku_d'Etat.txt\": 657.2499999999999, 'Stezo.txt': 654.6999999999999, 'AMG_(rapper).txt': 652.8700000000002, 'Afu_Ra.txt': 648.0200000000001, 'Jimmy_Spicer.txt': 647.9999999999998, 'Mayne_Mannish.txt': 647.7600000000003, 'Saint_Dog.txt': 644.4599999999999, 'Rob_Lewis_(record_producer).txt': 643.53, 'Scoop_DeVille.txt': 643.2500000000001, 'Mann_(rapper).txt': 641.9499999999998, 'Omega_Crosby.txt': 641.67, 'CJ_(rapper).txt': 632.9999999999999, 'Sweet_Tee.txt': 632.9600000000003, 'Krondon.txt': 631.72, 'Just_Blaze.txt': 630.97, 'Big_Fase_100.txt': 625.0699999999999, 'DJ_Richie_Rich.txt': 621.28, 'DTTX_(rapper).txt': 617.47, 'Psychosiz.txt': 617.3100000000001, 'Njena_Reddd_Foxxx.txt': 617.01, 'K_the_I.txt': 612.7400000000001, 'Rob_Stone_(rapper).txt': 612.4300000000002, 'Keef_Cowboy.txt': 610.7000000000003, 'J.R._Writer.txt': 610.6, 'Nitty_(musician).txt': 605.7199999999999, 'OhGeesy.txt': 605.33, 'A_Plus_(rapper).txt': 603.3099999999998, 'B.G._Knocc_Out.txt': 601.8299999999998, 'Big_Syke.txt': 600.9300000000001, 'Mic_Geronimo.txt': 599.2199999999997, 'CJ_Mac.txt': 593.9499999999998, 'Exile_(producer).txt': 593.8899999999999, 'JGivens.txt': 592.2600000000001, 'Shawn_Fonteno.txt': 587.6400000000001, 'Captain_Rapp.txt': 582.8700000000001, 'Hittman.txt': 577.0400000000002, 'Just_Ice.txt': 576.88, 'Guerilla_Black.txt': 572.5400000000001, 'Rydah_J._Klyde.txt': 558.84, 'Capone_(rapper).txt': 556.1899999999999, 'Kirk_Knight.txt': 545.57, 'Bodega_Bamz.txt': 532.45, 'Pooh_Man.txt': 523.9, 'MC_Jazzy_Jeff.txt': 521.79, 'HeeSun_Lee.txt': 521.45, 'Na_Kel_Smith.txt': 518.1899999999999, 'Killa_Sin.txt': 515.1500000000001, 'Sleep_Dank.txt': 502.38000000000017, 'Apache_(rapper).txt': 492.8800000000003, 'Shorty_Mack.txt': 492.1300000000001, 'Lil_Italy.txt': 482.01, 'Laz_D.txt': 479.3300000000002, 'Bahamadia.txt': 478.8200000000001, 'Prince_Whipper_Whip.txt': 477.5600000000001, 'Celestaphone.txt': 474.1599999999999, 'East_Flatbush_Project.txt': 457.69000000000017, 'Wyldfyer.txt': 445.72000000000014, 'Larry_Larr.txt': 444.97999999999996, 'King_Lil_G.txt': 440.0700000000003, 'Young_Chozen.txt': 438.51000000000005, 'Apani_B._Fly.txt': 429.19999999999993, 'Hurt_M_Badd.txt': 425.7199999999999, 'Skizzy_Mars.txt': 422.46, 'Lil_Ric.txt': 419.28, 'Islord.txt': 411.1, 'Speak!.txt': 399.1200000000001, 'Conceit_(rapper).txt': 394.28000000000003, 'Antoinette_(rapper).txt': 378.92, 'Drag_On.txt': 375.87999999999994, 'Half_a_Mill.txt': 373.54, '60_Second_Assassin_(rapper).txt': 371.06, 'Daddy_X.txt': 358.50999999999993, 'Passion_(rapper).txt': 347.4299999999999, 'Foreknown_(rapper).txt': 343.22000000000014, 'Ms._Jade.txt': 342.68, 'Theo_Martins.txt': 329.22, 'Seagram_(rapper).txt': 316.16000000000014, 'DJ_Webstar.txt': 315.48, 'LoveRance.txt': 297.38000000000005, 'SwinDoe.txt': 240.27999999999997, 'Flash_Bang_Grenada.txt': 240.17999999999998, 'Hi_C_(rapper).txt': 225.21999999999997, 'Bavgate.txt': 0, 'Beeda_Weeda.txt': 0, \"Captain_Save_'Em.txt\": 0, 'DB_Tha_General.txt': 0, 'Den_Fenn.txt': 0, 'Dolla_Will.txt': 0, 'Dubb_20.txt': 0, 'Duna_(rapper).txt': 0, 'GFMBryyce.txt': 0, 'G_Nut.txt': 0, 'G_Stack.txt': 0, 'Kaveo.txt': 0, 'Killa_Keise.txt': 0, \"Lil'_C_Style.txt\": 0, 'Lil_Coner.txt': 0, 'Lil_Uno.txt': 0, 'Mac_Shawn.txt': 0, 'Miami_(rapper).txt': 0, 'Mr._Skrillz.txt': 0, 'Mugzi.txt': 0, 'Oompa_(rapper).txt': 0, 'Phats_Bossi.txt': 0, 'Phil_Da_Agony.txt': 0, 'Prodeje.txt': 0, 'RJ_(rapper).txt': 0, 'Snupe.txt': 0, 'Stressmatic.txt': 0, 'Stunnaman.txt': 0, 'T_Pup.txt': 0, 'Tap_Dat_Ass.txt': 0, 'V_White.txt': 0, 'Vidal_Prevost.txt': 0, 'Young_Dru.txt': 0, 'Young_L.txt': 0}\n"
     ]
    }
   ],
   "source": [
    "happiness_scores = {}\n",
    "for file_id in all_corpus.fileids():\n",
    "    text_raw = all_corpus.raw(file_id)\n",
    "    text_tokens = word_tokenize(text_raw)\n",
    "    text_words = [w.lower() for w in text_tokens if w.isalpha()]\n",
    "    happiness_scores[file_id]=get_happiness_score(text_words, dict_avg_happiness)\n",
    "\n",
    "happiness_scores=dict(sorted(happiness_scores.items(), key=lambda x:x[1], reverse=True))\n",
    "print(happiness_scores)"
   ]
  },
  {
   "cell_type": "markdown",
   "metadata": {},
   "source": [
    "*Exercise 2*: West coast and East coast.\n",
    "\n",
    "Now, let's check if the pages of rappers from different coasts tend to have different sentiment. \n",
    "\n",
    "> * First, think about it for a second: Do you expect pages of rappers from different coasts to have different sentiment? Why/why not?\n",
    "> * Next, Download [this file](https://github.com/SocialComplexityLab/socialgraphs2023/edit/main/files/Rappers.csv) if you do not have it already.\n",
    "> * Start by plotting the distribution of sentiment for the pages of east-coast and west-coast rappers separately. \n",
    "> * Now calculate the mean, median, 10th percentile, and 90 percentile sentiment value for each coast and indicate those values on the corresponding histograms.\n",
    "> * Comment on these distributions and how they relate to the overall sentiment distribution you calculated in Exercise 1 above.\n",
    "> * Use the \"label shuffling technique\" that I illustrated in **Week 5, exercise 7** to determine whether or not \n",
    ">   1. the west-coast pages tend to have lower sentiment than a similarly sized group of randomly chosen rapper pages (pick random groups 1000 times and reject the hypothesis if 5% of the random outcomes are lower than the actual value observed for the west-coast pages)\n",
    ">   2. the west-coast pages tend to have higher sentiment than a similarly sized group of randomly chosen character pages (again, use 1000 random draws and a 5% confidence bound).\n",
    ">   3. (**optional**) Perhaps there are other divisions of rappers whose pages would be more likely to have different sentiment. Perhaps comparing groups of rappers of different sexes, races, etc. would give interesting results? Feel free to do a deep dive here, and let me know which groups you analyze and how you end up \"guessing\" a rapper's sex, race, etc. \n",
    "\n",
    "Comment: The \"label shuffling technique\" is incredibly useful. It may turn out to be a good tool to apply for your independent project. Keep it in mind."
   ]
  },
  {
   "cell_type": "markdown",
   "metadata": {},
   "source": [
    "# Part B (optional): The Wikispeedia Extravaganza\n",
    "\n",
    "This final **AND OPTIONAL** exercise is about tying everything together. In this context \"optional\" means that the exercises below will not be on the assignment (but they're fun & cool).\n",
    "\n",
    "We try to combine our work on networks plus our work on language in order to understand and analyze human behavior. We'll be working on a cool dataset of humans playing a game on (a special version of) wikipedia called \"wikispeedia\".  Note that the game is now called *The Wiki Game* and can be found at http://thewikigame.com/ ( ... while \"http://wikispeedia.org\" is a page about GPS coordinates of speed-traps). \n",
    "\n",
    "Here's how the game worked:\n",
    "\n",
    "> In the game, users are asked to navigate from a given _source_ article (e.g. https://en.wikipedia.org/wiki/Gold_dollar) to a given _target_ article (e.g. https://en.wikipedia.org/wiki/Ronald_Reagan), **by only clicking Wikipedia links**. A condensed version of Wikipedia (4,604 articles) is used. \n",
    "\n",
    "So this dataset contains **human navigation paths** (clicking from page to page to find a target) and today we will work on this dataset to see if we can use our skills to understand how human navigation works. We will think about the following questions.\n",
    "\n",
    "* Path lengths\n",
    "* Betweenness from the human perspective\n",
    "* What characterizes human paths?\n",
    "\n",
    "Let's get started."
   ]
  },
  {
   "cell_type": "markdown",
   "metadata": {},
   "source": [
    "### Download the dataset\n",
    "\n",
    "The first thing we're going to do is download the dataset. Today everything related to data is nice, clean, and easy to work with (Yay). You can get the dataset [here](https://snap.stanford.edu/data/wikispeedia.html). You will need to get \n",
    "\n",
    "* The list of wiki articles\n",
    "* The network connections\n",
    "* The navigation paths\n",
    "* Plaintext of the wiki articles"
   ]
  },
  {
   "cell_type": "markdown",
   "metadata": {},
   "source": [
    "### Path lengths\n",
    "\n",
    "The first thing we want to take a look at is path lengths. NetworkX allows us to calculate the shortest path between any pair of articles. We begin by comparing the length of human and shortests paths. \n",
    "\n",
    "_Optional Exercises 1_\n",
    "> * For each _source_/_target_ pair in the list of human navigation paths, calculate the shortest path using NetworkX. Plot the distribution of path lengths. Mine looks something like this (if I use an undirected graph):\n",
    "![alt text](https://raw.githubusercontent.com/suneman/socialgraphs2016/master/files/shortest-path.png)\n",
    "\n",
    "\n",
    "> * For each _source_/_target_ pair, calculate the length of the human path. The dataset contains information on people who regret a navigation step and hit the \"back\" button in their web-browser. It's up to you how to incorporate that information in the path. Justify your choice. Plot the distribution of human path lengths. If I ignore back steps, I get this on log-log scale:\n",
    "![alt text](https://raw.githubusercontent.com/suneman/socialgraphs2016/master/files/human-path.png)\n",
    "\n",
    "> * How much longer are the human paths on average?\n",
    "> * Create scatter plot where each point is a _source_/_target_ pair, and you have human path lengths on the $x$-axis and shortests paths on the $y$-axis.\n",
    "> * Is there a correlation between human/shortest path-lengths? What is the correlation."
   ]
  },
  {
   "cell_type": "markdown",
   "metadata": {},
   "source": [
    "### Betweenness\n",
    "\n",
    "An interesting definition of centrality is _betweenness centrality_ (here's a handy [link to the NetworkX documentation](http://networkx.readthedocs.io/en/stable/reference/generated/networkx.algorithms.centrality.betweenness_centrality.html)). In a traditional setting, this measure calculates all shortest paths in the network and then each node gets a score according to which fraction of all shortest paths pass through that node.\n",
    "\n",
    "\n",
    "In this part, we will create our own version of centrality, based on the _source_/_target_ pairs in our dataset. We define a node's **navigation centrality** as follows. \n",
    "\n",
    "> *Navigation centrality* of node $i$ is the fraction of all navigation paths that pass through $i$. We exclude the source and target from the count. If a node has not been visited by a search, the navigation centrality of that node is defined to be zero.\n",
    "\n",
    "In the exercises below, we investigate the relationship between navigation centrality and betweenness centrality."
   ]
  },
  {
   "cell_type": "markdown",
   "metadata": {},
   "source": [
    "*Optional Exercises 2*\n",
    "\n",
    "> Begin by calculating the betweenness centrality and navigation centrality of all nodes in the Wikispeedia dataset.\n",
    "> Note that calculating the betweenness centrality can take quite a long time, so you might start it running in a separate notebook while first estimating it based on the existing human path.\n",
    ">\n",
    "> * First, list the 5 pages with highest navigation centrality.\n",
    "> * Second, list the 5 pages with highest betweenness centrality.\n",
    "> * Compare the two lists. Explain the differences between the two lists in your own words.\n",
    "> * Create a scatterplot of betweenness centrality vs. navigation centrality.\n",
    "> * Let's explore the pages that have navigation centrality equal to zero.\n",
    ">   * How many pages have zero navigation centrality?\n",
    ">   * What is the the page with zero navigation centrality and highest betweenness centrality? Can you explain why no human navigated to this page? Can you explain why the page is central in the actual link network? (For example, you can take a look at the degree of the node).\n",
    ">   * Plot the distribution of betweenness centrality for the pages with zero navigation centrality. My plot on log-log scale:\n",
    "![alt text](https://raw.githubusercontent.com/suneman/socialgraphs2016/master/files/betweenness.png)\n",
    "\n",
    "> * Now, let's *throw out all pages with zero navigation centrality* and compare navigation- and betweenness centrality for the remaining pages.\n",
    ">   * What is the correlation between betweenness centrality and navigation centrality?\n",
    ">   * Comment on the top 5 outliers."
   ]
  },
  {
   "cell_type": "markdown",
   "metadata": {},
   "source": [
    "# Bringing the text into the picture\n",
    "\n",
    "Now that we have an idea about the differences between how humans and computers search in networks, we are going to dig a little deeper using the page content to test a hypothesis to explain why the human navigation paths are longer. The general idea is that humans (who don't know about the global network structure) tend to jump between pages that have related _content_. For this reason we expect that (on average) human navigation paths have more similar content than the shortest paths in the network (which might take 'surprising' shortcuts via relatively unrelated pages). In short.\n",
    "\n",
    "> **Hypothesis H1**: Human navigation paths have more similar content than network shortest paths.\n",
    "\n",
    "The way we'll test this hypothesis is to first represent each page as a vector using a bag-of-words approach, then we can calculate a distance between pairs of pages using some vector-space difference, and finally we'll characterize each path by its average pair-wise distance. Below, I've set up that process as an exercise. "
   ]
  },
  {
   "cell_type": "markdown",
   "metadata": {},
   "source": [
    "*Optional Exercises 3*\n",
    "\n",
    "> First, create a TF-IDF vector for each page. You already know all about TF-IDF from last week's exercise. The main difference is that we now _characterize **each page** by a TF-IDF vector_ and not a group of pages.\n",
    "> \n",
    "> Second, write a function that calculates the distance between a pair of vectors. There are many ways to calculate distances between a pair of vectors (try a Google search for `vector space distance measures` if you want to refresh your knowledge on this topic). You're free to choose what you want, but we recommend the [cosine similarity](https://en.wikipedia.org/wiki/Cosine_similarity).\n",
    ">\n",
    "> Now you're ready for the exercises\n",
    "> \n",
    "> * Calculate the average pairwise similarity for all human navigation paths (the _source_/_target_ pairs from above). With start and end at node $i,j$ we can call this similarity $s_{i,j}$. Calculate mean/variance of the $s_{ij}$'s.\n",
    "> * Calculate the average pairwise similarity for all shortest paths between the _source_/_target_ pairs ($S_{i,j}$). Calculate mean/variance of the $S_{i,j}$.\n",
    "> * Plot the distributions of average similarities for both human- and shortest paths in a single plot. If everything works well, you should see something similar to the following:\n",
    "![alt text](https://raw.githubusercontent.com/suneman/socialgraphs2016/master/files/path-similarity.png)\n",
    "\n",
    "> * Finally, for each source/target pair, compare the human-navigation average similarity with the betweenness based average similarity, testing what fraction of the time, the average similarity is lower in the case of human navigation.\n",
    "> * Comment on your findings. Is **H1** true?"
   ]
  },
  {
   "cell_type": "code",
   "execution_count": null,
   "metadata": {},
   "outputs": [],
   "source": []
  }
 ],
 "metadata": {
  "kernelspec": {
   "display_name": "Python 3 (ipykernel)",
   "language": "python",
   "name": "python3"
  },
  "language_info": {
   "codemirror_mode": {
    "name": "ipython",
    "version": 3
   },
   "file_extension": ".py",
   "mimetype": "text/x-python",
   "name": "python",
   "nbconvert_exporter": "python",
   "pygments_lexer": "ipython3",
   "version": "3.10.13"
  }
 },
 "nbformat": 4,
 "nbformat_minor": 4
}
